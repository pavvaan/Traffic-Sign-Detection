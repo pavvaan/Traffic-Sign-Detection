{
  "nbformat": 4,
  "nbformat_minor": 0,
  "metadata": {
    "colab": {
      "name": "Traffic Sign CA 1.ipynb",
      "provenance": [],
      "collapsed_sections": []
    },
    "kernelspec": {
      "name": "python3",
      "display_name": "Python 3"
    },
    "accelerator": "GPU"
  },
  "cells": [
    {
      "cell_type": "code",
      "metadata": {
        "id": "BsiD7cTSLdYA"
      },
      "source": [
        "import os\n",
        "import zipfile\n",
        "!unzip -q \"/content/drive/My Drive/archive.zip\"\n",
        "os.getcwd() \n",
        "os.chdir('/content/drive/My Drive')"
      ],
      "execution_count": null,
      "outputs": []
    },
    {
      "cell_type": "code",
      "metadata": {
        "id": "MRhdHyTAMrok"
      },
      "source": [
        "import numpy as np \n",
        "import pandas as pd \n",
        "import matplotlib.pyplot as plt\n",
        "import tensorflow as tf\n",
        "import cv2\n",
        "from PIL import Image\n",
        "import os"
      ],
      "execution_count": null,
      "outputs": []
    },
    {
      "cell_type": "code",
      "metadata": {
        "id": "sqKoPH1-NCGu",
        "outputId": "2a15c03e-910b-48b3-b00a-2725406a8724",
        "colab": {
          "base_uri": "https://localhost:8080/",
          "height": 402
        }
      },
      "source": [
        "train=pd.read_csv('/content/Train.csv')\n",
        "X_train=train['Path']\n",
        "y_train=train.ClassId\n",
        "train"
      ],
      "execution_count": null,
      "outputs": [
        {
          "output_type": "execute_result",
          "data": {
            "text/html": [
              "<div>\n",
              "<style scoped>\n",
              "    .dataframe tbody tr th:only-of-type {\n",
              "        vertical-align: middle;\n",
              "    }\n",
              "\n",
              "    .dataframe tbody tr th {\n",
              "        vertical-align: top;\n",
              "    }\n",
              "\n",
              "    .dataframe thead th {\n",
              "        text-align: right;\n",
              "    }\n",
              "</style>\n",
              "<table border=\"1\" class=\"dataframe\">\n",
              "  <thead>\n",
              "    <tr style=\"text-align: right;\">\n",
              "      <th></th>\n",
              "      <th>Width</th>\n",
              "      <th>Height</th>\n",
              "      <th>Roi.X1</th>\n",
              "      <th>Roi.Y1</th>\n",
              "      <th>Roi.X2</th>\n",
              "      <th>Roi.Y2</th>\n",
              "      <th>ClassId</th>\n",
              "      <th>Path</th>\n",
              "    </tr>\n",
              "  </thead>\n",
              "  <tbody>\n",
              "    <tr>\n",
              "      <th>0</th>\n",
              "      <td>27</td>\n",
              "      <td>26</td>\n",
              "      <td>5</td>\n",
              "      <td>5</td>\n",
              "      <td>22</td>\n",
              "      <td>20</td>\n",
              "      <td>20</td>\n",
              "      <td>Train/20/00020_00000_00000.png</td>\n",
              "    </tr>\n",
              "    <tr>\n",
              "      <th>1</th>\n",
              "      <td>28</td>\n",
              "      <td>27</td>\n",
              "      <td>5</td>\n",
              "      <td>6</td>\n",
              "      <td>23</td>\n",
              "      <td>22</td>\n",
              "      <td>20</td>\n",
              "      <td>Train/20/00020_00000_00001.png</td>\n",
              "    </tr>\n",
              "    <tr>\n",
              "      <th>2</th>\n",
              "      <td>29</td>\n",
              "      <td>26</td>\n",
              "      <td>6</td>\n",
              "      <td>5</td>\n",
              "      <td>24</td>\n",
              "      <td>21</td>\n",
              "      <td>20</td>\n",
              "      <td>Train/20/00020_00000_00002.png</td>\n",
              "    </tr>\n",
              "    <tr>\n",
              "      <th>3</th>\n",
              "      <td>28</td>\n",
              "      <td>27</td>\n",
              "      <td>5</td>\n",
              "      <td>6</td>\n",
              "      <td>23</td>\n",
              "      <td>22</td>\n",
              "      <td>20</td>\n",
              "      <td>Train/20/00020_00000_00003.png</td>\n",
              "    </tr>\n",
              "    <tr>\n",
              "      <th>4</th>\n",
              "      <td>28</td>\n",
              "      <td>26</td>\n",
              "      <td>5</td>\n",
              "      <td>5</td>\n",
              "      <td>23</td>\n",
              "      <td>21</td>\n",
              "      <td>20</td>\n",
              "      <td>Train/20/00020_00000_00004.png</td>\n",
              "    </tr>\n",
              "    <tr>\n",
              "      <th>...</th>\n",
              "      <td>...</td>\n",
              "      <td>...</td>\n",
              "      <td>...</td>\n",
              "      <td>...</td>\n",
              "      <td>...</td>\n",
              "      <td>...</td>\n",
              "      <td>...</td>\n",
              "      <td>...</td>\n",
              "    </tr>\n",
              "    <tr>\n",
              "      <th>39204</th>\n",
              "      <td>52</td>\n",
              "      <td>56</td>\n",
              "      <td>5</td>\n",
              "      <td>6</td>\n",
              "      <td>47</td>\n",
              "      <td>51</td>\n",
              "      <td>42</td>\n",
              "      <td>Train/42/00042_00007_00025.png</td>\n",
              "    </tr>\n",
              "    <tr>\n",
              "      <th>39205</th>\n",
              "      <td>56</td>\n",
              "      <td>58</td>\n",
              "      <td>5</td>\n",
              "      <td>5</td>\n",
              "      <td>51</td>\n",
              "      <td>53</td>\n",
              "      <td>42</td>\n",
              "      <td>Train/42/00042_00007_00026.png</td>\n",
              "    </tr>\n",
              "    <tr>\n",
              "      <th>39206</th>\n",
              "      <td>58</td>\n",
              "      <td>62</td>\n",
              "      <td>5</td>\n",
              "      <td>6</td>\n",
              "      <td>53</td>\n",
              "      <td>57</td>\n",
              "      <td>42</td>\n",
              "      <td>Train/42/00042_00007_00027.png</td>\n",
              "    </tr>\n",
              "    <tr>\n",
              "      <th>39207</th>\n",
              "      <td>63</td>\n",
              "      <td>69</td>\n",
              "      <td>5</td>\n",
              "      <td>7</td>\n",
              "      <td>58</td>\n",
              "      <td>63</td>\n",
              "      <td>42</td>\n",
              "      <td>Train/42/00042_00007_00028.png</td>\n",
              "    </tr>\n",
              "    <tr>\n",
              "      <th>39208</th>\n",
              "      <td>68</td>\n",
              "      <td>69</td>\n",
              "      <td>7</td>\n",
              "      <td>6</td>\n",
              "      <td>62</td>\n",
              "      <td>63</td>\n",
              "      <td>42</td>\n",
              "      <td>Train/42/00042_00007_00029.png</td>\n",
              "    </tr>\n",
              "  </tbody>\n",
              "</table>\n",
              "<p>39209 rows × 8 columns</p>\n",
              "</div>"
            ],
            "text/plain": [
              "       Width  Height  Roi.X1  ...  Roi.Y2  ClassId                            Path\n",
              "0         27      26       5  ...      20       20  Train/20/00020_00000_00000.png\n",
              "1         28      27       5  ...      22       20  Train/20/00020_00000_00001.png\n",
              "2         29      26       6  ...      21       20  Train/20/00020_00000_00002.png\n",
              "3         28      27       5  ...      22       20  Train/20/00020_00000_00003.png\n",
              "4         28      26       5  ...      21       20  Train/20/00020_00000_00004.png\n",
              "...      ...     ...     ...  ...     ...      ...                             ...\n",
              "39204     52      56       5  ...      51       42  Train/42/00042_00007_00025.png\n",
              "39205     56      58       5  ...      53       42  Train/42/00042_00007_00026.png\n",
              "39206     58      62       5  ...      57       42  Train/42/00042_00007_00027.png\n",
              "39207     63      69       5  ...      63       42  Train/42/00042_00007_00028.png\n",
              "39208     68      69       7  ...      63       42  Train/42/00042_00007_00029.png\n",
              "\n",
              "[39209 rows x 8 columns]"
            ]
          },
          "metadata": {
            "tags": []
          },
          "execution_count": 3
        }
      ]
    },
    {
      "cell_type": "code",
      "metadata": {
        "id": "-LmVQlI3NL-O"
      },
      "source": [
        "data_dir = \"/content\"\n",
        "train_imgpath= list((data_dir + '/' + str(train.Path[i])) for i in range(len(train.Path)))"
      ],
      "execution_count": null,
      "outputs": []
    },
    {
      "cell_type": "code",
      "metadata": {
        "id": "dnTY0j2aNWdT",
        "outputId": "ae90a5d8-1640-476b-bfce-404a32003e4f",
        "colab": {
          "base_uri": "https://localhost:8080/",
          "height": 269
        }
      },
      "source": [
        "for i in range(0,9):\n",
        "    plt.subplot(331+i)\n",
        "    seed=np.random.randint(0,39210)\n",
        "    im = Image.open(train_imgpath[seed])  \n",
        "    plt.imshow(im)\n",
        "    \n",
        "plt.show()"
      ],
      "execution_count": null,
      "outputs": [
        {
          "output_type": "display_data",
          "data": {
            "image/png": "[encoded data removed]",
            "text/plain": [
              "<Figure size 432x288 with 9 Axes>"
            ]
          },
          "metadata": {
            "tags": [],
            "needs_background": "light"
          }
        }
      ]
    },
    {
      "cell_type": "code",
      "metadata": {
        "id": "e88J-ql9Na3x"
      },
      "source": [
        "train_data=[]\n",
        "train_labels=[]\n",
        "path = \"/content/\"\n",
        "for i in range(len(train.Path)):\n",
        "    image=cv2.imread(train_imgpath[i])\n",
        "    image_from_array = Image.fromarray(image, 'RGB')\n",
        "    size_image = image_from_array.resize((28,28))\n",
        "    train_data.append(np.array(size_image))\n",
        "    train_labels.append(train.ClassId[i])\n",
        "\n",
        "\n",
        "X=np.array(train_data)\n",
        "y=np.array(train_labels)"
      ],
      "execution_count": null,
      "outputs": []
    },
    {
      "cell_type": "code",
      "metadata": {
        "id": "idw57f8JN_Es"
      },
      "source": [
        "from sklearn.model_selection import train_test_split\n",
        "X_train, X_val, y_train, y_val = train_test_split( X, y, test_size=0.20, random_state=7777)"
      ],
      "execution_count": null,
      "outputs": []
    },
    {
      "cell_type": "code",
      "metadata": {
        "id": "l_zPo_-xOFXZ"
      },
      "source": [
        "#Spliting the images into train and validation sets\n",
        "\n",
        "X_train = X_train.astype('float32')/255 \n",
        "X_val = X_val.astype('float32')/255\n",
        "\n",
        "#Using one hote encoding for the train and validation labels\n",
        "from keras.utils import to_categorical\n",
        "y_train = to_categorical(y_train, 43)\n",
        "y_val = to_categorical(y_val, 43)"
      ],
      "execution_count": null,
      "outputs": []
    },
    {
      "cell_type": "code",
      "metadata": {
        "id": "Q_4ewhPVOIdR"
      },
      "source": [
        "from sklearn.model_selection import GridSearchCV\n",
        "from sklearn.model_selection import KFold\n",
        "from keras.models import Sequential\n",
        "from keras.layers import Dense\n",
        "from keras.wrappers.scikit_learn import KerasClassifier\n",
        "from keras.optimizers import Adam\n",
        "from keras.layers import Dropout"
      ],
      "execution_count": null,
      "outputs": []
    },
    {
      "cell_type": "code",
      "metadata": {
        "id": "0Wh3u7_LOLXu",
        "outputId": "cf35a82b-799b-4265-d21c-0ef9e29d33cc",
        "colab": {
          "base_uri": "https://localhost:8080/",
          "height": 638
        }
      },
      "source": [
        "def create_model(layers):\n",
        "    cnn = tf.keras.models.Sequential()\n",
        "    cnn.add(tf.keras.layers.Conv2D(filters=32, kernel_size=3, padding=\"same\", activation=\"relu\", input_shape=[28, 28, 3]))\n",
        "    cnn.add(tf.keras.layers.MaxPool2D(pool_size=2, strides=2, padding='valid'))\n",
        "    cnn.add(tf.keras.layers.Conv2D(filters=32, kernel_size=3, padding=\"same\", activation=\"relu\"))\n",
        "    cnn.add(tf.keras.layers.MaxPool2D(pool_size=2, strides=2, padding='valid'))\n",
        "    cnn.add(tf.keras.layers.Flatten())\n",
        "    \n",
        "    for i, nodes in enumerate(layers):\n",
        "        cnn.add(tf.keras.layers.Dense(units=nodes, activation='relu'))\n",
        "            \n",
        "    cnn.add(tf.keras.layers.Dense(units=43, activation='softmax'))\n",
        "    \n",
        "    cnn.compile(optimizer = 'Adam', loss = 'binary_crossentropy', metrics = ['accuracy'])\n",
        "    return cnn\n",
        "\n",
        "model = KerasClassifier(build_fn=create_model, verbose=1)\n",
        "layers = [[128],(256, 128),(200, 150, 120)]\n",
        "param_grid = dict(layers=layers)\n",
        "grid = GridSearchCV(estimator=model, param_grid=param_grid, verbose=1)\n",
        "grid_results = grid.fit(X_train,y_train, validation_data=(X_val, y_val))\n",
        "print(\"Best: {0}, using {1}\".format(grid_results.best_score_, grid_results.best_params_))\n",
        "means = grid_results.cv_results_['mean_test_score']\n",
        "stds = grid_results.cv_results_['std_test_score']\n",
        "params = grid_results.cv_results_['params']\n",
        "for mean, stdev, param in zip(means, stds, params):\n",
        "    print('{0} ({1}) with: {2}'.format(mean, stdev, param))"
      ],
      "execution_count": null,
      "outputs": [
        {
          "output_type": "stream",
          "text": [
            "Fitting 5 folds for each of 3 candidates, totalling 15 fits\n"
          ],
          "name": "stdout"
        },
        {
          "output_type": "stream",
          "text": [
            "[Parallel(n_jobs=1)]: Using backend SequentialBackend with 1 concurrent workers.\n"
          ],
          "name": "stderr"
        },
        {
          "output_type": "stream",
          "text": [
            "785/785 [==============================] - 3s 4ms/step - loss: 0.0507 - accuracy: 0.5647 - val_loss: 0.0212 - val_accuracy: 0.8239\n",
            "197/197 [==============================] - 0s 2ms/step - loss: 0.0214 - accuracy: 0.8274\n",
            "785/785 [==============================] - 3s 4ms/step - loss: 0.0508 - accuracy: 0.5667 - val_loss: 0.0196 - val_accuracy: 0.8409\n",
            "197/197 [==============================] - 0s 2ms/step - loss: 0.0190 - accuracy: 0.8500\n",
            "785/785 [==============================] - 3s 4ms/step - loss: 0.0494 - accuracy: 0.5775 - val_loss: 0.0190 - val_accuracy: 0.8511\n",
            "197/197 [==============================] - 0s 2ms/step - loss: 0.0189 - accuracy: 0.8567\n",
            "785/785 [==============================] - 3s 4ms/step - loss: 0.0487 - accuracy: 0.5894 - val_loss: 0.0198 - val_accuracy: 0.8606\n",
            "197/197 [==============================] - 0s 2ms/step - loss: 0.0204 - accuracy: 0.8537\n",
            "785/785 [==============================] - 4s 4ms/step - loss: 0.0474 - accuracy: 0.5967 - val_loss: 0.0198 - val_accuracy: 0.8467\n",
            "197/197 [==============================] - 0s 3ms/step - loss: 0.0193 - accuracy: 0.8535\n",
            "785/785 [==============================] - 3s 4ms/step - loss: 0.0460 - accuracy: 0.5991 - val_loss: 0.0160 - val_accuracy: 0.8775\n",
            "785/785 [==============================] - 3s 4ms/step - loss: 0.0449 - accuracy: 0.6125 - val_loss: 0.0146 - val_accuracy: 0.8893\n",
            "197/197 [==============================] - 0s 2ms/step - loss: 0.0143 - accuracy: 0.8937\n",
            "785/785 [==============================] - 3s 4ms/step - loss: 0.0426 - accuracy: 0.6380 - val_loss: 0.0158 - val_accuracy: 0.8776\n",
            "197/197 [==============================] - 0s 2ms/step - loss: 0.0156 - accuracy: 0.8766\n",
            "785/785 [==============================] - 3s 4ms/step - loss: 0.0442 - accuracy: 0.6152 - val_loss: 0.0149 - val_accuracy: 0.8871\n",
            "197/197 [==============================] - 0s 2ms/step - loss: 0.0143 - accuracy: 0.8983\n",
            "785/785 [==============================] - 3s 4ms/step - loss: 0.0454 - accuracy: 0.6096 - val_loss: 0.0141 - val_accuracy: 0.8929\n",
            "197/197 [==============================] - 0s 2ms/step - loss: 0.0139 - accuracy: 0.8964\n",
            "785/785 [==============================] - 3s 4ms/step - loss: 0.0549 - accuracy: 0.4956 - val_loss: 0.0229 - val_accuracy: 0.8132\n",
            "197/197 [==============================] - 1s 3ms/step - loss: 0.0226 - accuracy: 0.8143\n",
            "785/785 [==============================] - 3s 4ms/step - loss: 0.0530 - accuracy: 0.5142 - val_loss: 0.0227 - val_accuracy: 0.8266\n",
            "197/197 [==============================] - 0s 2ms/step - loss: 0.0226 - accuracy: 0.8290\n",
            "785/785 [==============================] - 3s 4ms/step - loss: 0.0523 - accuracy: 0.5269 - val_loss: 0.0210 - val_accuracy: 0.8234\n",
            "197/197 [==============================] - 0s 2ms/step - loss: 0.0212 - accuracy: 0.8200\n",
            "785/785 [==============================] - 3s 4ms/step - loss: 0.0520 - accuracy: 0.5344 - val_loss: 0.0205 - val_accuracy: 0.8324\n",
            "197/197 [==============================] - 1s 3ms/step - loss: 0.0204 - accuracy: 0.8337\n",
            "785/785 [==============================] - 3s 4ms/step - loss: 0.0522 - accuracy: 0.5235 - val_loss: 0.0218 - val_accuracy: 0.8114\n",
            "197/197 [==============================] - 0s 2ms/step - loss: 0.0217 - accuracy: 0.8119\n"
          ],
          "name": "stdout"
        },
        {
          "output_type": "stream",
          "text": [
            "[Parallel(n_jobs=1)]: Done  15 out of  15 | elapsed:  1.3min finished\n"
          ],
          "name": "stderr"
        },
        {
          "output_type": "stream",
          "text": [
            "981/981 [==============================] - 4s 4ms/step - loss: 0.0408 - accuracy: 0.6530 - val_loss: 0.0135 - val_accuracy: 0.9018\n",
            "Best: 0.8895017981529236, using {'layers': (256, 128)}\n",
            "0.8482487678527832 (0.010644724586591986) with: {'layers': [128]}\n",
            "0.8895017981529236 (0.008448039314396697) with: {'layers': (256, 128)}\n",
            "0.8217872500419616 (0.008381570468903275) with: {'layers': (200, 150, 120)}\n"
          ],
          "name": "stdout"
        }
      ]
    },
    {
      "cell_type": "code",
      "metadata": {
        "id": "ZFGn03pFORUX",
        "outputId": "48de030f-0130-46fb-fcc1-093ff4cb0122",
        "colab": {
          "base_uri": "https://localhost:8080/",
          "height": 1000
        }
      },
      "source": [
        "def create_model2(dropout):\n",
        "    # create model\n",
        "    cnn = tf.keras.models.Sequential()\n",
        "    cnn.add(tf.keras.layers.Conv2D(filters=32, kernel_size=3, padding=\"same\", activation=\"relu\", input_shape=[28, 28, 3]))\n",
        "    cnn.add(tf.keras.layers.MaxPool2D(pool_size=2, strides=2, padding='valid'))\n",
        "    cnn.add(tf.keras.layers.Conv2D(filters=32, kernel_size=3, padding=\"same\", activation=\"relu\"))\n",
        "    cnn.add(tf.keras.layers.MaxPool2D(pool_size=2, strides=2, padding='valid'))\n",
        "    cnn.add(tf.keras.layers.Flatten())\n",
        "    cnn.add(tf.keras.layers.Dense(units=256, activation='relu'))\n",
        "    cnn.add(Dropout(dropout))\n",
        "    cnn.add(tf.keras.layers.Dense(units=128, activation='relu'))\n",
        "    cnn.add(Dropout(dropout))\n",
        "    cnn.add(tf.keras.layers.Dense(units=43, activation='softmax'))\n",
        "    \n",
        "    # compile the model\n",
        "    cnn.compile(optimizer = 'Adam', loss = 'binary_crossentropy', metrics = ['accuracy'])\n",
        "    return cnn\n",
        "\n",
        "# create the model\n",
        "model = KerasClassifier(build_fn = create_model2, verbose = 1,epochs=10, batch_size=20)\n",
        "\n",
        "# define the grid search parameters\n",
        "dropout = [0.0, 0.1, 0.2]\n",
        "\n",
        "# make a dictionary of the grid search parameters\n",
        "param_grid = dict(dropout=dropout)\n",
        "\n",
        "# build and fit the GridSearchCV\n",
        "grid = GridSearchCV(estimator = model, param_grid = param_grid, verbose = 1)\n",
        "grid_results = grid.fit(X_train,y_train, validation_data=(X_val, y_val))\n",
        "\n",
        "# summarize the results\n",
        "print(\"Best: {0}, using {1}\".format(grid_results.best_score_, grid_results.best_params_))\n",
        "means = grid_results.cv_results_['mean_test_score']\n",
        "stds = grid_results.cv_results_['std_test_score']\n",
        "params = grid_results.cv_results_['params']\n",
        "for mean, stdev, param in zip(means, stds, params):\n",
        "    print('{0} ({1}) with: {2}'.format(mean, stdev, param))"
      ],
      "execution_count": null,
      "outputs": [
        {
          "output_type": "stream",
          "text": [
            "Fitting 5 folds for each of 3 candidates, totalling 15 fits\n",
            "Epoch 1/10\n"
          ],
          "name": "stdout"
        },
        {
          "output_type": "stream",
          "text": [
            "[Parallel(n_jobs=1)]: Using backend SequentialBackend with 1 concurrent workers.\n"
          ],
          "name": "stderr"
        },
        {
          "output_type": "stream",
          "text": [
            "1255/1255 [==============================] - 5s 4ms/step - loss: 0.0408 - accuracy: 0.6465 - val_loss: 0.0135 - val_accuracy: 0.9072\n",
            "Epoch 2/10\n",
            "1255/1255 [==============================] - 5s 4ms/step - loss: 0.0084 - accuracy: 0.9379 - val_loss: 0.0058 - val_accuracy: 0.9594\n",
            "Epoch 3/10\n",
            "1255/1255 [==============================] - 5s 4ms/step - loss: 0.0046 - accuracy: 0.9686 - val_loss: 0.0054 - val_accuracy: 0.9624\n",
            "Epoch 4/10\n",
            "1255/1255 [==============================] - 5s 4ms/step - loss: 0.0026 - accuracy: 0.9828 - val_loss: 0.0035 - val_accuracy: 0.9759\n",
            "Epoch 5/10\n",
            "1255/1255 [==============================] - 5s 4ms/step - loss: 0.0022 - accuracy: 0.9853 - val_loss: 0.0058 - val_accuracy: 0.9644\n",
            "Epoch 6/10\n",
            "1255/1255 [==============================] - 4s 4ms/step - loss: 0.0018 - accuracy: 0.9873 - val_loss: 0.0063 - val_accuracy: 0.9638\n",
            "Epoch 7/10\n",
            "1255/1255 [==============================] - 4s 3ms/step - loss: 0.0014 - accuracy: 0.9907 - val_loss: 0.0031 - val_accuracy: 0.9791\n",
            "Epoch 8/10\n",
            "1255/1255 [==============================] - 4s 4ms/step - loss: 0.0016 - accuracy: 0.9895 - val_loss: 0.0028 - val_accuracy: 0.9815\n",
            "Epoch 9/10\n",
            "1255/1255 [==============================] - 5s 4ms/step - loss: 8.8605e-04 - accuracy: 0.9943 - val_loss: 0.0034 - val_accuracy: 0.9806\n",
            "Epoch 10/10\n",
            "1255/1255 [==============================] - 5s 4ms/step - loss: 0.0014 - accuracy: 0.9914 - val_loss: 0.0027 - val_accuracy: 0.9823\n",
            "314/314 [==============================] - 1s 2ms/step - loss: 0.0019 - accuracy: 0.9895\n",
            "Epoch 1/10\n",
            "1255/1255 [==============================] - 5s 4ms/step - loss: 0.0432 - accuracy: 0.6247 - val_loss: 0.0188 - val_accuracy: 0.8458\n",
            "Epoch 2/10\n",
            "1255/1255 [==============================] - 5s 4ms/step - loss: 0.0107 - accuracy: 0.9181 - val_loss: 0.0073 - val_accuracy: 0.9476\n",
            "Epoch 3/10\n",
            "1255/1255 [==============================] - 4s 4ms/step - loss: 0.0054 - accuracy: 0.9604 - val_loss: 0.0055 - val_accuracy: 0.9603\n",
            "Epoch 4/10\n",
            "1255/1255 [==============================] - 5s 4ms/step - loss: 0.0033 - accuracy: 0.9771 - val_loss: 0.0059 - val_accuracy: 0.9602\n",
            "Epoch 5/10\n",
            "1255/1255 [==============================] - 5s 4ms/step - loss: 0.0026 - accuracy: 0.9822 - val_loss: 0.0033 - val_accuracy: 0.9779\n",
            "Epoch 6/10\n",
            "1255/1255 [==============================] - 5s 4ms/step - loss: 0.0020 - accuracy: 0.9857 - val_loss: 0.0040 - val_accuracy: 0.9732\n",
            "Epoch 7/10\n",
            "1255/1255 [==============================] - 5s 4ms/step - loss: 0.0018 - accuracy: 0.9876 - val_loss: 0.0034 - val_accuracy: 0.9790\n",
            "Epoch 8/10\n",
            "1255/1255 [==============================] - 5s 4ms/step - loss: 0.0019 - accuracy: 0.9876 - val_loss: 0.0029 - val_accuracy: 0.9816\n",
            "Epoch 9/10\n",
            "1255/1255 [==============================] - 5s 4ms/step - loss: 0.0012 - accuracy: 0.9919 - val_loss: 0.0042 - val_accuracy: 0.9730\n",
            "Epoch 10/10\n",
            "1255/1255 [==============================] - 5s 4ms/step - loss: 0.0012 - accuracy: 0.9914 - val_loss: 0.0030 - val_accuracy: 0.9806\n",
            "314/314 [==============================] - 1s 2ms/step - loss: 0.0033 - accuracy: 0.9814\n",
            "Epoch 1/10\n",
            "1255/1255 [==============================] - 5s 4ms/step - loss: 0.0391 - accuracy: 0.6590 - val_loss: 0.0106 - val_accuracy: 0.9166\n",
            "Epoch 2/10\n",
            "1255/1255 [==============================] - 5s 4ms/step - loss: 0.0073 - accuracy: 0.9472 - val_loss: 0.0060 - val_accuracy: 0.9561\n",
            "Epoch 3/10\n",
            "1255/1255 [==============================] - 5s 4ms/step - loss: 0.0036 - accuracy: 0.9760 - val_loss: 0.0050 - val_accuracy: 0.9658\n",
            "Epoch 4/10\n",
            "1255/1255 [==============================] - 5s 4ms/step - loss: 0.0025 - accuracy: 0.9828 - val_loss: 0.0037 - val_accuracy: 0.9764\n",
            "Epoch 5/10\n",
            "1255/1255 [==============================] - 5s 4ms/step - loss: 0.0017 - accuracy: 0.9884 - val_loss: 0.0040 - val_accuracy: 0.9736\n",
            "Epoch 6/10\n",
            "1255/1255 [==============================] - 5s 4ms/step - loss: 0.0020 - accuracy: 0.9855 - val_loss: 0.0029 - val_accuracy: 0.9816\n",
            "Epoch 7/10\n",
            "1255/1255 [==============================] - 5s 4ms/step - loss: 0.0012 - accuracy: 0.9920 - val_loss: 0.0033 - val_accuracy: 0.9764\n",
            "Epoch 8/10\n",
            "1255/1255 [==============================] - 5s 4ms/step - loss: 0.0013 - accuracy: 0.9912 - val_loss: 0.0025 - val_accuracy: 0.9839\n",
            "Epoch 9/10\n",
            "1255/1255 [==============================] - 5s 4ms/step - loss: 0.0014 - accuracy: 0.9915 - val_loss: 0.0045 - val_accuracy: 0.9727\n",
            "Epoch 10/10\n",
            "1255/1255 [==============================] - 5s 4ms/step - loss: 7.5434e-04 - accuracy: 0.9946 - val_loss: 0.0025 - val_accuracy: 0.9852\n",
            "314/314 [==============================] - 1s 2ms/step - loss: 0.0028 - accuracy: 0.9855\n",
            "Epoch 1/10\n",
            "1255/1255 [==============================] - 5s 4ms/step - loss: 0.0451 - accuracy: 0.5980 - val_loss: 0.0150 - val_accuracy: 0.8887\n",
            "Epoch 2/10\n",
            "1255/1255 [==============================] - 5s 4ms/step - loss: 0.0096 - accuracy: 0.9291 - val_loss: 0.0057 - val_accuracy: 0.9607\n",
            "Epoch 3/10\n",
            "1255/1255 [==============================] - 5s 4ms/step - loss: 0.0048 - accuracy: 0.9670 - val_loss: 0.0043 - val_accuracy: 0.9697\n",
            "Epoch 4/10\n",
            "1255/1255 [==============================] - 5s 4ms/step - loss: 0.0030 - accuracy: 0.9804 - val_loss: 0.0034 - val_accuracy: 0.9767\n",
            "Epoch 5/10\n",
            "1255/1255 [==============================] - 5s 4ms/step - loss: 0.0025 - accuracy: 0.9828 - val_loss: 0.0056 - val_accuracy: 0.9588\n",
            "Epoch 6/10\n",
            "1255/1255 [==============================] - 5s 4ms/step - loss: 0.0018 - accuracy: 0.9873 - val_loss: 0.0036 - val_accuracy: 0.9774\n",
            "Epoch 7/10\n",
            "1255/1255 [==============================] - 5s 4ms/step - loss: 0.0016 - accuracy: 0.9887 - val_loss: 0.0037 - val_accuracy: 0.9753\n",
            "Epoch 8/10\n",
            "1255/1255 [==============================] - 5s 4ms/step - loss: 0.0015 - accuracy: 0.9908 - val_loss: 0.0030 - val_accuracy: 0.9818\n",
            "Epoch 9/10\n",
            "1255/1255 [==============================] - 5s 4ms/step - loss: 0.0013 - accuracy: 0.9920 - val_loss: 0.0026 - val_accuracy: 0.9848\n",
            "Epoch 10/10\n",
            "1255/1255 [==============================] - 5s 4ms/step - loss: 0.0013 - accuracy: 0.9919 - val_loss: 0.0041 - val_accuracy: 0.9748\n",
            "314/314 [==============================] - 1s 2ms/step - loss: 0.0039 - accuracy: 0.9750\n",
            "Epoch 1/10\n",
            "1255/1255 [==============================] - 5s 4ms/step - loss: 0.0454 - accuracy: 0.5979 - val_loss: 0.0162 - val_accuracy: 0.8721\n",
            "Epoch 2/10\n",
            "1255/1255 [==============================] - 5s 4ms/step - loss: 0.0097 - accuracy: 0.9263 - val_loss: 0.0064 - val_accuracy: 0.9523\n",
            "Epoch 3/10\n",
            "1255/1255 [==============================] - 5s 4ms/step - loss: 0.0045 - accuracy: 0.9687 - val_loss: 0.0064 - val_accuracy: 0.9573\n",
            "Epoch 4/10\n",
            "1255/1255 [==============================] - 5s 4ms/step - loss: 0.0033 - accuracy: 0.9770 - val_loss: 0.0038 - val_accuracy: 0.9746\n",
            "Epoch 5/10\n",
            "1255/1255 [==============================] - 5s 4ms/step - loss: 0.0023 - accuracy: 0.9845 - val_loss: 0.0025 - val_accuracy: 0.9838\n",
            "Epoch 6/10\n",
            "1255/1255 [==============================] - 5s 4ms/step - loss: 0.0020 - accuracy: 0.9876 - val_loss: 0.0047 - val_accuracy: 0.9662\n",
            "Epoch 7/10\n",
            "1255/1255 [==============================] - 5s 4ms/step - loss: 0.0014 - accuracy: 0.9905 - val_loss: 0.0027 - val_accuracy: 0.9828\n",
            "Epoch 8/10\n",
            "1255/1255 [==============================] - 5s 4ms/step - loss: 0.0014 - accuracy: 0.9910 - val_loss: 0.0093 - val_accuracy: 0.9333\n",
            "Epoch 9/10\n",
            "1255/1255 [==============================] - 5s 4ms/step - loss: 0.0012 - accuracy: 0.9914 - val_loss: 0.0031 - val_accuracy: 0.9801\n",
            "Epoch 10/10\n",
            "1255/1255 [==============================] - 5s 4ms/step - loss: 0.0011 - accuracy: 0.9926 - val_loss: 0.0020 - val_accuracy: 0.9872\n",
            "314/314 [==============================] - 1s 2ms/step - loss: 0.0016 - accuracy: 0.9890\n",
            "Epoch 1/10\n",
            "1255/1255 [==============================] - 5s 4ms/step - loss: 0.0451 - accuracy: 0.6026 - val_loss: 0.0143 - val_accuracy: 0.8828\n",
            "Epoch 2/10\n",
            "1255/1255 [==============================] - 5s 4ms/step - loss: 0.0108 - accuracy: 0.9155 - val_loss: 0.0058 - val_accuracy: 0.9579\n",
            "Epoch 3/10\n",
            "1255/1255 [==============================] - 5s 4ms/step - loss: 0.0056 - accuracy: 0.9589 - val_loss: 0.0044 - val_accuracy: 0.9703\n",
            "Epoch 4/10\n",
            "1255/1255 [==============================] - 5s 4ms/step - loss: 0.0040 - accuracy: 0.9715 - val_loss: 0.0033 - val_accuracy: 0.9788\n",
            "Epoch 5/10\n",
            "1255/1255 [==============================] - 5s 4ms/step - loss: 0.0026 - accuracy: 0.9802 - val_loss: 0.0030 - val_accuracy: 0.9790\n",
            "Epoch 6/10\n",
            "1255/1255 [==============================] - 5s 4ms/step - loss: 0.0025 - accuracy: 0.9821 - val_loss: 0.0030 - val_accuracy: 0.9821\n",
            "Epoch 7/10\n",
            "1255/1255 [==============================] - 5s 4ms/step - loss: 0.0020 - accuracy: 0.9870 - val_loss: 0.0036 - val_accuracy: 0.9754\n",
            "Epoch 8/10\n",
            "1255/1255 [==============================] - 5s 4ms/step - loss: 0.0016 - accuracy: 0.9886 - val_loss: 0.0019 - val_accuracy: 0.9874\n",
            "Epoch 9/10\n",
            "1255/1255 [==============================] - 5s 4ms/step - loss: 0.0015 - accuracy: 0.9889 - val_loss: 0.0033 - val_accuracy: 0.9792\n",
            "Epoch 10/10\n",
            "1255/1255 [==============================] - 5s 4ms/step - loss: 0.0013 - accuracy: 0.9912 - val_loss: 0.0026 - val_accuracy: 0.9848\n",
            "314/314 [==============================] - 1s 2ms/step - loss: 0.0023 - accuracy: 0.9880\n",
            "Epoch 1/10\n",
            "1255/1255 [==============================] - 5s 4ms/step - loss: 0.0461 - accuracy: 0.5837 - val_loss: 0.0135 - val_accuracy: 0.9016\n",
            "Epoch 2/10\n",
            "1255/1255 [==============================] - 5s 4ms/step - loss: 0.0099 - accuracy: 0.9238 - val_loss: 0.0046 - val_accuracy: 0.9649\n",
            "Epoch 3/10\n",
            "1255/1255 [==============================] - 5s 4ms/step - loss: 0.0050 - accuracy: 0.9637 - val_loss: 0.0040 - val_accuracy: 0.9717\n",
            "Epoch 4/10\n",
            "1255/1255 [==============================] - 5s 4ms/step - loss: 0.0034 - accuracy: 0.9762 - val_loss: 0.0028 - val_accuracy: 0.9805\n",
            "Epoch 5/10\n",
            "1255/1255 [==============================] - 5s 4ms/step - loss: 0.0027 - accuracy: 0.9812 - val_loss: 0.0022 - val_accuracy: 0.9844\n",
            "Epoch 6/10\n",
            "1255/1255 [==============================] - 5s 4ms/step - loss: 0.0019 - accuracy: 0.9858 - val_loss: 0.0032 - val_accuracy: 0.9791\n",
            "Epoch 7/10\n",
            "1255/1255 [==============================] - 5s 4ms/step - loss: 0.0020 - accuracy: 0.9857 - val_loss: 0.0024 - val_accuracy: 0.9846\n",
            "Epoch 8/10\n",
            "1255/1255 [==============================] - 5s 4ms/step - loss: 0.0014 - accuracy: 0.9900 - val_loss: 0.0026 - val_accuracy: 0.9843\n",
            "Epoch 9/10\n",
            "1255/1255 [==============================] - 5s 4ms/step - loss: 0.0016 - accuracy: 0.9889 - val_loss: 0.0018 - val_accuracy: 0.9890\n",
            "Epoch 10/10\n",
            "1255/1255 [==============================] - 5s 4ms/step - loss: 0.0015 - accuracy: 0.9896 - val_loss: 0.0018 - val_accuracy: 0.9899\n",
            "314/314 [==============================] - 1s 2ms/step - loss: 0.0019 - accuracy: 0.9871\n",
            "Epoch 1/10\n",
            "1255/1255 [==============================] - 5s 4ms/step - loss: 0.0492 - accuracy: 0.5557 - val_loss: 0.0142 - val_accuracy: 0.8860\n",
            "Epoch 2/10\n",
            "1255/1255 [==============================] - 5s 4ms/step - loss: 0.0108 - accuracy: 0.9160 - val_loss: 0.0051 - val_accuracy: 0.9643\n",
            "Epoch 3/10\n",
            "1255/1255 [==============================] - 5s 4ms/step - loss: 0.0053 - accuracy: 0.9609 - val_loss: 0.0034 - val_accuracy: 0.9777\n",
            "Epoch 4/10\n",
            "1255/1255 [==============================] - 5s 4ms/step - loss: 0.0036 - accuracy: 0.9732 - val_loss: 0.0031 - val_accuracy: 0.9788\n",
            "Epoch 5/10\n",
            "1255/1255 [==============================] - 5s 4ms/step - loss: 0.0027 - accuracy: 0.9819 - val_loss: 0.0031 - val_accuracy: 0.9786\n",
            "Epoch 6/10\n",
            "1255/1255 [==============================] - 5s 4ms/step - loss: 0.0021 - accuracy: 0.9860 - val_loss: 0.0024 - val_accuracy: 0.9836\n",
            "Epoch 7/10\n",
            "1255/1255 [==============================] - 5s 4ms/step - loss: 0.0017 - accuracy: 0.9889 - val_loss: 0.0026 - val_accuracy: 0.9813\n",
            "Epoch 8/10\n",
            "1255/1255 [==============================] - 5s 4ms/step - loss: 0.0017 - accuracy: 0.9879 - val_loss: 0.0020 - val_accuracy: 0.9874\n",
            "Epoch 9/10\n",
            "1255/1255 [==============================] - 5s 4ms/step - loss: 0.0016 - accuracy: 0.9885 - val_loss: 0.0020 - val_accuracy: 0.9861\n",
            "Epoch 10/10\n",
            "1255/1255 [==============================] - 5s 4ms/step - loss: 0.0011 - accuracy: 0.9919 - val_loss: 0.0031 - val_accuracy: 0.9827\n",
            "314/314 [==============================] - 1s 2ms/step - loss: 0.0030 - accuracy: 0.9826\n",
            "Epoch 1/10\n",
            "1255/1255 [==============================] - 5s 4ms/step - loss: 0.0464 - accuracy: 0.5881 - val_loss: 0.0142 - val_accuracy: 0.8841\n",
            "Epoch 2/10\n",
            "1255/1255 [==============================] - 5s 4ms/step - loss: 0.0107 - accuracy: 0.9173 - val_loss: 0.0053 - val_accuracy: 0.9635\n",
            "Epoch 3/10\n",
            "1255/1255 [==============================] - 5s 4ms/step - loss: 0.0054 - accuracy: 0.9606 - val_loss: 0.0042 - val_accuracy: 0.9703\n",
            "Epoch 4/10\n",
            "1255/1255 [==============================] - 5s 4ms/step - loss: 0.0036 - accuracy: 0.9739 - val_loss: 0.0029 - val_accuracy: 0.9788\n",
            "Epoch 5/10\n",
            "1255/1255 [==============================] - 5s 4ms/step - loss: 0.0027 - accuracy: 0.9798 - val_loss: 0.0031 - val_accuracy: 0.9787\n",
            "Epoch 6/10\n",
            "1255/1255 [==============================] - 5s 4ms/step - loss: 0.0021 - accuracy: 0.9847 - val_loss: 0.0035 - val_accuracy: 0.9765\n",
            "Epoch 7/10\n",
            "1255/1255 [==============================] - 5s 4ms/step - loss: 0.0020 - accuracy: 0.9853 - val_loss: 0.0022 - val_accuracy: 0.9842\n",
            "Epoch 8/10\n",
            "1255/1255 [==============================] - 5s 4ms/step - loss: 0.0016 - accuracy: 0.9896 - val_loss: 0.0028 - val_accuracy: 0.9814\n",
            "Epoch 9/10\n",
            "1255/1255 [==============================] - 5s 4ms/step - loss: 0.0015 - accuracy: 0.9888 - val_loss: 0.0025 - val_accuracy: 0.9852\n",
            "Epoch 10/10\n",
            "1255/1255 [==============================] - 5s 4ms/step - loss: 0.0015 - accuracy: 0.9897 - val_loss: 0.0016 - val_accuracy: 0.9897\n",
            "314/314 [==============================] - 1s 2ms/step - loss: 0.0019 - accuracy: 0.9888\n",
            "Epoch 1/10\n",
            "1255/1255 [==============================] - 5s 4ms/step - loss: 0.0443 - accuracy: 0.6089 - val_loss: 0.0122 - val_accuracy: 0.9082\n",
            "Epoch 2/10\n",
            "1255/1255 [==============================] - 5s 4ms/step - loss: 0.0090 - accuracy: 0.9318 - val_loss: 0.0045 - val_accuracy: 0.9712\n",
            "Epoch 3/10\n",
            "1255/1255 [==============================] - 5s 4ms/step - loss: 0.0044 - accuracy: 0.9688 - val_loss: 0.0030 - val_accuracy: 0.9815\n",
            "Epoch 4/10\n",
            "1255/1255 [==============================] - 5s 4ms/step - loss: 0.0032 - accuracy: 0.9771 - val_loss: 0.0026 - val_accuracy: 0.9827\n",
            "Epoch 5/10\n",
            "1255/1255 [==============================] - 5s 4ms/step - loss: 0.0021 - accuracy: 0.9854 - val_loss: 0.0019 - val_accuracy: 0.9892\n",
            "Epoch 6/10\n",
            "1255/1255 [==============================] - 5s 4ms/step - loss: 0.0020 - accuracy: 0.9857 - val_loss: 0.0026 - val_accuracy: 0.9827\n",
            "Epoch 7/10\n",
            "1255/1255 [==============================] - 5s 4ms/step - loss: 0.0016 - accuracy: 0.9890 - val_loss: 0.0023 - val_accuracy: 0.9846\n",
            "Epoch 8/10\n",
            "1255/1255 [==============================] - 5s 4ms/step - loss: 0.0013 - accuracy: 0.9907 - val_loss: 0.0018 - val_accuracy: 0.9899\n",
            "Epoch 9/10\n",
            "1255/1255 [==============================] - 5s 4ms/step - loss: 0.0012 - accuracy: 0.9917 - val_loss: 0.0015 - val_accuracy: 0.9908\n",
            "Epoch 10/10\n",
            "1255/1255 [==============================] - 5s 4ms/step - loss: 0.0013 - accuracy: 0.9916 - val_loss: 0.0016 - val_accuracy: 0.9907\n",
            "314/314 [==============================] - 1s 2ms/step - loss: 0.0014 - accuracy: 0.9888\n",
            "Epoch 1/10\n",
            "1255/1255 [==============================] - 5s 4ms/step - loss: 0.0497 - accuracy: 0.5568 - val_loss: 0.0130 - val_accuracy: 0.9053\n",
            "Epoch 2/10\n",
            "1255/1255 [==============================] - 5s 4ms/step - loss: 0.0129 - accuracy: 0.8990 - val_loss: 0.0057 - val_accuracy: 0.9603\n",
            "Epoch 3/10\n",
            "1255/1255 [==============================] - 5s 4ms/step - loss: 0.0070 - accuracy: 0.9469 - val_loss: 0.0038 - val_accuracy: 0.9748\n",
            "Epoch 4/10\n",
            "1255/1255 [==============================] - 5s 4ms/step - loss: 0.0048 - accuracy: 0.9649 - val_loss: 0.0037 - val_accuracy: 0.9759\n",
            "Epoch 5/10\n",
            "1255/1255 [==============================] - 5s 4ms/step - loss: 0.0035 - accuracy: 0.9739 - val_loss: 0.0029 - val_accuracy: 0.9814\n",
            "Epoch 6/10\n",
            "1255/1255 [==============================] - 5s 4ms/step - loss: 0.0032 - accuracy: 0.9770 - val_loss: 0.0037 - val_accuracy: 0.9768\n",
            "Epoch 7/10\n",
            "1255/1255 [==============================] - 5s 4ms/step - loss: 0.0026 - accuracy: 0.9819 - val_loss: 0.0026 - val_accuracy: 0.9823\n",
            "Epoch 8/10\n",
            "1255/1255 [==============================] - 5s 4ms/step - loss: 0.0022 - accuracy: 0.9840 - val_loss: 0.0019 - val_accuracy: 0.9892\n",
            "Epoch 9/10\n",
            "1255/1255 [==============================] - 5s 4ms/step - loss: 0.0019 - accuracy: 0.9857 - val_loss: 0.0024 - val_accuracy: 0.9836\n",
            "Epoch 10/10\n",
            "1255/1255 [==============================] - 5s 4ms/step - loss: 0.0017 - accuracy: 0.9872 - val_loss: 0.0017 - val_accuracy: 0.9884\n",
            "314/314 [==============================] - 1s 2ms/step - loss: 0.0015 - accuracy: 0.9900\n",
            "Epoch 1/10\n",
            "1255/1255 [==============================] - 5s 4ms/step - loss: 0.0496 - accuracy: 0.5566 - val_loss: 0.0161 - val_accuracy: 0.8675\n",
            "Epoch 2/10\n",
            "1255/1255 [==============================] - 5s 4ms/step - loss: 0.0129 - accuracy: 0.8996 - val_loss: 0.0052 - val_accuracy: 0.9649\n",
            "Epoch 3/10\n",
            "1255/1255 [==============================] - 5s 4ms/step - loss: 0.0067 - accuracy: 0.9504 - val_loss: 0.0037 - val_accuracy: 0.9748\n",
            "Epoch 4/10\n",
            "1255/1255 [==============================] - 5s 4ms/step - loss: 0.0045 - accuracy: 0.9662 - val_loss: 0.0038 - val_accuracy: 0.9745\n",
            "Epoch 5/10\n",
            "1255/1255 [==============================] - 5s 4ms/step - loss: 0.0033 - accuracy: 0.9765 - val_loss: 0.0033 - val_accuracy: 0.9754\n",
            "Epoch 6/10\n",
            "1255/1255 [==============================] - 5s 4ms/step - loss: 0.0028 - accuracy: 0.9792 - val_loss: 0.0020 - val_accuracy: 0.9865\n",
            "Epoch 7/10\n",
            "1255/1255 [==============================] - 5s 4ms/step - loss: 0.0023 - accuracy: 0.9831 - val_loss: 0.0022 - val_accuracy: 0.9866\n",
            "Epoch 8/10\n",
            "1255/1255 [==============================] - 5s 4ms/step - loss: 0.0021 - accuracy: 0.9861 - val_loss: 0.0025 - val_accuracy: 0.9829\n",
            "Epoch 9/10\n",
            "1255/1255 [==============================] - 5s 4ms/step - loss: 0.0020 - accuracy: 0.9857 - val_loss: 0.0019 - val_accuracy: 0.9884\n",
            "Epoch 10/10\n",
            "1255/1255 [==============================] - 5s 4ms/step - loss: 0.0019 - accuracy: 0.9873 - val_loss: 0.0017 - val_accuracy: 0.9893\n",
            "314/314 [==============================] - 1s 3ms/step - loss: 0.0017 - accuracy: 0.9880\n",
            "Epoch 1/10\n",
            "1255/1255 [==============================] - 5s 4ms/step - loss: 0.0526 - accuracy: 0.5309 - val_loss: 0.0175 - val_accuracy: 0.8530\n",
            "Epoch 2/10\n",
            "1255/1255 [==============================] - 5s 4ms/step - loss: 0.0135 - accuracy: 0.8901 - val_loss: 0.0061 - val_accuracy: 0.9635\n",
            "Epoch 3/10\n",
            "1255/1255 [==============================] - 5s 4ms/step - loss: 0.0070 - accuracy: 0.9472 - val_loss: 0.0043 - val_accuracy: 0.9725\n",
            "Epoch 4/10\n",
            "1255/1255 [==============================] - 5s 4ms/step - loss: 0.0046 - accuracy: 0.9666 - val_loss: 0.0036 - val_accuracy: 0.9739\n",
            "Epoch 5/10\n",
            "1255/1255 [==============================] - 5s 4ms/step - loss: 0.0035 - accuracy: 0.9742 - val_loss: 0.0020 - val_accuracy: 0.9858\n",
            "Epoch 6/10\n",
            "1255/1255 [==============================] - 5s 4ms/step - loss: 0.0027 - accuracy: 0.9806 - val_loss: 0.0018 - val_accuracy: 0.9880\n",
            "Epoch 7/10\n",
            "1255/1255 [==============================] - 5s 4ms/step - loss: 0.0022 - accuracy: 0.9835 - val_loss: 0.0024 - val_accuracy: 0.9847\n",
            "Epoch 8/10\n",
            "1255/1255 [==============================] - 5s 4ms/step - loss: 0.0021 - accuracy: 0.9845 - val_loss: 0.0016 - val_accuracy: 0.9898\n",
            "Epoch 9/10\n",
            "1255/1255 [==============================] - 5s 4ms/step - loss: 0.0016 - accuracy: 0.9890 - val_loss: 0.0019 - val_accuracy: 0.9881\n",
            "Epoch 10/10\n",
            "1255/1255 [==============================] - 5s 4ms/step - loss: 0.0017 - accuracy: 0.9877 - val_loss: 0.0018 - val_accuracy: 0.9876\n",
            "314/314 [==============================] - 1s 2ms/step - loss: 0.0020 - accuracy: 0.9880\n",
            "Epoch 1/10\n",
            "1255/1255 [==============================] - 5s 4ms/step - loss: 0.0486 - accuracy: 0.5707 - val_loss: 0.0124 - val_accuracy: 0.9133\n",
            "Epoch 2/10\n",
            "1255/1255 [==============================] - 5s 4ms/step - loss: 0.0110 - accuracy: 0.9127 - val_loss: 0.0053 - val_accuracy: 0.9612\n",
            "Epoch 3/10\n",
            "1255/1255 [==============================] - 5s 4ms/step - loss: 0.0059 - accuracy: 0.9556 - val_loss: 0.0033 - val_accuracy: 0.9787\n",
            "Epoch 4/10\n",
            "1255/1255 [==============================] - 5s 4ms/step - loss: 0.0040 - accuracy: 0.9712 - val_loss: 0.0032 - val_accuracy: 0.9782\n",
            "Epoch 5/10\n",
            "1255/1255 [==============================] - 5s 4ms/step - loss: 0.0032 - accuracy: 0.9770 - val_loss: 0.0026 - val_accuracy: 0.9829\n",
            "Epoch 6/10\n",
            "1255/1255 [==============================] - 5s 4ms/step - loss: 0.0028 - accuracy: 0.9806 - val_loss: 0.0027 - val_accuracy: 0.9820\n",
            "Epoch 7/10\n",
            "1255/1255 [==============================] - 5s 4ms/step - loss: 0.0022 - accuracy: 0.9848 - val_loss: 0.0023 - val_accuracy: 0.9856\n",
            "Epoch 8/10\n",
            "1255/1255 [==============================] - 5s 4ms/step - loss: 0.0019 - accuracy: 0.9868 - val_loss: 0.0019 - val_accuracy: 0.9885\n",
            "Epoch 9/10\n",
            "1255/1255 [==============================] - 5s 4ms/step - loss: 0.0017 - accuracy: 0.9882 - val_loss: 0.0019 - val_accuracy: 0.9881\n",
            "Epoch 10/10\n",
            "1255/1255 [==============================] - 5s 4ms/step - loss: 0.0018 - accuracy: 0.9885 - val_loss: 0.0019 - val_accuracy: 0.9876\n",
            "314/314 [==============================] - 1s 2ms/step - loss: 0.0019 - accuracy: 0.9874\n",
            "Epoch 1/10\n",
            "1255/1255 [==============================] - 5s 4ms/step - loss: 0.0509 - accuracy: 0.5416 - val_loss: 0.0149 - val_accuracy: 0.8772\n",
            "Epoch 2/10\n",
            "1255/1255 [==============================] - 5s 4ms/step - loss: 0.0126 - accuracy: 0.8973 - val_loss: 0.0051 - val_accuracy: 0.9654\n",
            "Epoch 3/10\n",
            "1255/1255 [==============================] - 5s 4ms/step - loss: 0.0063 - accuracy: 0.9533 - val_loss: 0.0042 - val_accuracy: 0.9722\n",
            "Epoch 4/10\n",
            "1255/1255 [==============================] - 5s 4ms/step - loss: 0.0041 - accuracy: 0.9693 - val_loss: 0.0027 - val_accuracy: 0.9810\n",
            "Epoch 5/10\n",
            "1255/1255 [==============================] - 5s 4ms/step - loss: 0.0032 - accuracy: 0.9766 - val_loss: 0.0029 - val_accuracy: 0.9807\n",
            "Epoch 6/10\n",
            "1255/1255 [==============================] - 5s 4ms/step - loss: 0.0026 - accuracy: 0.9815 - val_loss: 0.0019 - val_accuracy: 0.9876\n",
            "Epoch 7/10\n",
            "1255/1255 [==============================] - 5s 4ms/step - loss: 0.0023 - accuracy: 0.9835 - val_loss: 0.0031 - val_accuracy: 0.9801\n",
            "Epoch 8/10\n",
            "1255/1255 [==============================] - 5s 4ms/step - loss: 0.0020 - accuracy: 0.9853 - val_loss: 0.0024 - val_accuracy: 0.9844\n",
            "Epoch 9/10\n",
            "1255/1255 [==============================] - 5s 4ms/step - loss: 0.0017 - accuracy: 0.9874 - val_loss: 0.0020 - val_accuracy: 0.9884\n",
            "Epoch 10/10\n",
            "1255/1255 [==============================] - 5s 4ms/step - loss: 0.0016 - accuracy: 0.9891 - val_loss: 0.0019 - val_accuracy: 0.9895\n",
            "314/314 [==============================] - 1s 2ms/step - loss: 0.0018 - accuracy: 0.9898\n",
            "Epoch 1/10\n"
          ],
          "name": "stdout"
        },
        {
          "output_type": "stream",
          "text": [
            "[Parallel(n_jobs=1)]: Done  15 out of  15 | elapsed: 12.5min finished\n"
          ],
          "name": "stderr"
        },
        {
          "output_type": "stream",
          "text": [
            "1569/1569 [==============================] - 6s 4ms/step - loss: 0.0452 - accuracy: 0.5974 - val_loss: 0.0103 - val_accuracy: 0.9194\n",
            "Epoch 2/10\n",
            "1569/1569 [==============================] - 6s 4ms/step - loss: 0.0093 - accuracy: 0.9276 - val_loss: 0.0049 - val_accuracy: 0.9656\n",
            "Epoch 3/10\n",
            "1569/1569 [==============================] - 6s 4ms/step - loss: 0.0048 - accuracy: 0.9638 - val_loss: 0.0025 - val_accuracy: 0.9853\n",
            "Epoch 4/10\n",
            "1569/1569 [==============================] - 6s 4ms/step - loss: 0.0036 - accuracy: 0.9743 - val_loss: 0.0022 - val_accuracy: 0.9852\n",
            "Epoch 5/10\n",
            "1569/1569 [==============================] - 6s 4ms/step - loss: 0.0026 - accuracy: 0.9812 - val_loss: 0.0021 - val_accuracy: 0.9865\n",
            "Epoch 6/10\n",
            "1569/1569 [==============================] - 6s 4ms/step - loss: 0.0023 - accuracy: 0.9826 - val_loss: 0.0016 - val_accuracy: 0.9911\n",
            "Epoch 7/10\n",
            "1569/1569 [==============================] - 6s 4ms/step - loss: 0.0018 - accuracy: 0.9872 - val_loss: 0.0019 - val_accuracy: 0.9883\n",
            "Epoch 8/10\n",
            "1569/1569 [==============================] - 6s 4ms/step - loss: 0.0019 - accuracy: 0.9875 - val_loss: 0.0014 - val_accuracy: 0.9903\n",
            "Epoch 9/10\n",
            "1569/1569 [==============================] - 6s 4ms/step - loss: 0.0016 - accuracy: 0.9891 - val_loss: 0.0025 - val_accuracy: 0.9833\n",
            "Epoch 10/10\n",
            "1569/1569 [==============================] - 6s 4ms/step - loss: 0.0014 - accuracy: 0.9900 - val_loss: 0.0018 - val_accuracy: 0.9889\n",
            "Best: 0.9886504888534546, using {'dropout': 0.2}\n",
            "0.9840595960617066 (0.005399412811663354) with: {'dropout': 0.0}\n",
            "0.9870883107185364 (0.002323442643204703) with: {'dropout': 0.1}\n",
            "0.9886504888534546 (0.0010303337081589133) with: {'dropout': 0.2}\n"
          ],
          "name": "stdout"
        }
      ]
    },
    {
      "cell_type": "code",
      "metadata": {
        "id": "xeLkuuZfO1GI",
        "outputId": "322b458b-1b0f-4f31-b799-a1607886faf3",
        "colab": {
          "base_uri": "https://localhost:8080/",
          "height": 689
        }
      },
      "source": [
        "cnn = tf.keras.models.Sequential()\n",
        "cnn.add(tf.keras.layers.Conv2D(filters=32, kernel_size=3, padding=\"same\", activation=\"relu\", input_shape=[28, 28, 3]))\n",
        "cnn.add(tf.keras.layers.MaxPool2D(pool_size=2, strides=2, padding='valid'))\n",
        "cnn.add(tf.keras.layers.Conv2D(filters=32, kernel_size=3, padding=\"same\", activation=\"relu\"))\n",
        "cnn.add(tf.keras.layers.MaxPool2D(pool_size=2, strides=2, padding='valid'))\n",
        "cnn.add(tf.keras.layers.Flatten())\n",
        "cnn.add(tf.keras.layers.Dense(units=256, activation='relu'))\n",
        "cnn.add(Dropout(0.2))\n",
        "cnn.add(tf.keras.layers.Dense(units=128, activation='relu'))\n",
        "cnn.add(Dropout(0.2))\n",
        "cnn.add(tf.keras.layers.Dense(units=43, activation='softmax'))\n",
        "\n",
        "# compile the model\n",
        "cnn.compile(optimizer = 'Adam', loss = 'binary_crossentropy', metrics = ['accuracy'])\n",
        "\n",
        "history = cnn.fit(X_train, y_train, batch_size=20, epochs=20,validation_data=(X_val, y_val))"
      ],
      "execution_count": null,
      "outputs": [
        {
          "output_type": "stream",
          "text": [
            "Epoch 1/20\n",
            "1569/1569 [==============================] - 6s 4ms/step - loss: 0.0462 - accuracy: 0.5865 - val_loss: 0.0118 - val_accuracy: 0.9128\n",
            "Epoch 2/20\n",
            "1569/1569 [==============================] - 6s 4ms/step - loss: 0.0109 - accuracy: 0.9146 - val_loss: 0.0072 - val_accuracy: 0.9429\n",
            "Epoch 3/20\n",
            "1569/1569 [==============================] - 6s 4ms/step - loss: 0.0057 - accuracy: 0.9572 - val_loss: 0.0037 - val_accuracy: 0.9740\n",
            "Epoch 4/20\n",
            "1569/1569 [==============================] - 6s 4ms/step - loss: 0.0038 - accuracy: 0.9718 - val_loss: 0.0028 - val_accuracy: 0.9801\n",
            "Epoch 5/20\n",
            "1569/1569 [==============================] - 6s 4ms/step - loss: 0.0029 - accuracy: 0.9788 - val_loss: 0.0029 - val_accuracy: 0.9805\n",
            "Epoch 6/20\n",
            "1569/1569 [==============================] - 6s 4ms/step - loss: 0.0025 - accuracy: 0.9813 - val_loss: 0.0020 - val_accuracy: 0.9880\n",
            "Epoch 7/20\n",
            "1569/1569 [==============================] - 6s 4ms/step - loss: 0.0021 - accuracy: 0.9850 - val_loss: 0.0018 - val_accuracy: 0.9883\n",
            "Epoch 8/20\n",
            "1569/1569 [==============================] - 6s 4ms/step - loss: 0.0017 - accuracy: 0.9878 - val_loss: 0.0017 - val_accuracy: 0.9889\n",
            "Epoch 9/20\n",
            "1569/1569 [==============================] - 6s 4ms/step - loss: 0.0017 - accuracy: 0.9881 - val_loss: 0.0018 - val_accuracy: 0.9906\n",
            "Epoch 10/20\n",
            "1569/1569 [==============================] - 6s 4ms/step - loss: 0.0018 - accuracy: 0.9879 - val_loss: 0.0023 - val_accuracy: 0.9862\n",
            "Epoch 11/20\n",
            "1569/1569 [==============================] - 6s 4ms/step - loss: 0.0013 - accuracy: 0.9908 - val_loss: 0.0019 - val_accuracy: 0.9894\n",
            "Epoch 12/20\n",
            "1569/1569 [==============================] - 6s 4ms/step - loss: 0.0016 - accuracy: 0.9898 - val_loss: 0.0019 - val_accuracy: 0.9884\n",
            "Epoch 13/20\n",
            "1569/1569 [==============================] - 6s 4ms/step - loss: 0.0013 - accuracy: 0.9919 - val_loss: 0.0016 - val_accuracy: 0.9892\n",
            "Epoch 14/20\n",
            "1569/1569 [==============================] - 6s 4ms/step - loss: 0.0012 - accuracy: 0.9920 - val_loss: 0.0017 - val_accuracy: 0.9921\n",
            "Epoch 15/20\n",
            "1569/1569 [==============================] - 6s 4ms/step - loss: 0.0013 - accuracy: 0.9915 - val_loss: 0.0024 - val_accuracy: 0.9883\n",
            "Epoch 16/20\n",
            "1569/1569 [==============================] - 6s 4ms/step - loss: 0.0011 - accuracy: 0.9925 - val_loss: 0.0015 - val_accuracy: 0.9909\n",
            "Epoch 17/20\n",
            "1569/1569 [==============================] - 6s 4ms/step - loss: 0.0013 - accuracy: 0.9917 - val_loss: 0.0014 - val_accuracy: 0.9923\n",
            "Epoch 18/20\n",
            "1569/1569 [==============================] - 5s 3ms/step - loss: 0.0011 - accuracy: 0.9931 - val_loss: 0.0019 - val_accuracy: 0.9885\n",
            "Epoch 19/20\n",
            "1569/1569 [==============================] - 6s 4ms/step - loss: 0.0012 - accuracy: 0.9924 - val_loss: 0.0017 - val_accuracy: 0.9911\n",
            "Epoch 20/20\n",
            "1569/1569 [==============================] - 6s 4ms/step - loss: 0.0013 - accuracy: 0.9923 - val_loss: 0.0013 - val_accuracy: 0.9936\n"
          ],
          "name": "stdout"
        }
      ]
    },
    {
      "cell_type": "code",
      "metadata": {
        "id": "zQTDlinzSbae",
        "outputId": "62b4ee46-88ed-4747-cd4b-2e3d7cde5756",
        "colab": {
          "base_uri": "https://localhost:8080/",
          "height": 590
        }
      },
      "source": [
        "import matplotlib.pyplot as plt\n",
        "\n",
        "plt.figure(0)\n",
        "plt.plot(history.history['accuracy'], label='training accuracy')\n",
        "plt.plot(history.history['val_accuracy'], label='val accuracy')\n",
        "plt.title('Accuracy')\n",
        "plt.xlabel('epochs')\n",
        "plt.ylabel('accuracy')\n",
        "plt.legend()\n",
        "\n",
        "plt.figure(1)\n",
        "plt.plot(history.history['loss'], label='training loss')\n",
        "plt.plot(history.history['val_loss'], label='val loss')\n",
        "plt.title('Loss')\n",
        "plt.xlabel('epochs')\n",
        "plt.ylabel('loss')\n",
        "plt.legend()"
      ],
      "execution_count": null,
      "outputs": [
        {
          "output_type": "execute_result",
          "data": {
            "text/plain": [
              "<matplotlib.legend.Legend at 0x7fb9122e1278>"
            ]
          },
          "metadata": {
            "tags": []
          },
          "execution_count": 13
        },
        {
          "output_type": "display_data",
          "data": {
            "image/png": "[encoded data removed]",
            "text/plain": [
              "<Figure size 432x288 with 1 Axes>"
            ]
          },
          "metadata": {
            "tags": [],
            "needs_background": "light"
          }
        },
        {
          "output_type": "display_data",
          "data": {
            "image/png": "[encoded data removed]",
            "text/plain": [
              "<Figure size 432x288 with 1 Axes>"
            ]
          },
          "metadata": {
            "tags": [],
            "needs_background": "light"
          }
        }
      ]
    },
    {
      "cell_type": "code",
      "metadata": {
        "id": "Iykld_mGS9QS"
      },
      "source": [
        "test=pd.read_csv('/content/Test.csv')\n",
        "X_test=train['Path']\n",
        "y_test=train.ClassId"
      ],
      "execution_count": null,
      "outputs": []
    },
    {
      "cell_type": "code",
      "metadata": {
        "id": "RbX5S6OzTDIe"
      },
      "source": [
        "data_dir = \"/content\"\n",
        "test_imgpath= list((data_dir + '/' + str(test.Path[i])) for i in range(len(test.Path)))"
      ],
      "execution_count": null,
      "outputs": []
    },
    {
      "cell_type": "code",
      "metadata": {
        "id": "bURH2NEwTMZB"
      },
      "source": [
        "test_data=[]\n",
        "test_labels=[]\n",
        "\n",
        "\n",
        "path = \"/content/\"\n",
        "for i in range(len(test.Path)):\n",
        "    image=cv2.imread(test_imgpath[i])\n",
        "    image_from_array = Image.fromarray(image, 'RGB')\n",
        "    size_image = image_from_array.resize((28,28))\n",
        "    test_data.append(np.array(size_image))\n",
        "    test_labels.append(test.ClassId[i])\n",
        "\n",
        "\n",
        "X_test=np.array(test_data)\n",
        "y_test=np.array(test_labels)\n",
        "\n",
        "X_test = X_test.astype('float32')/255 "
      ],
      "execution_count": null,
      "outputs": []
    },
    {
      "cell_type": "code",
      "metadata": {
        "id": "hNto3kpFTRLf"
      },
      "source": [
        "pred = cnn.predict_classes(X_test)"
      ],
      "execution_count": null,
      "outputs": []
    },
    {
      "cell_type": "code",
      "metadata": {
        "id": "MSLJhM8lTVQb",
        "outputId": "bae38cfe-2973-4a1e-a332-1f725d7ca446",
        "colab": {
          "base_uri": "https://localhost:8080/",
          "height": 34
        }
      },
      "source": [
        "from sklearn.metrics import accuracy_score\n",
        "accuracy_score(y_test, pred)"
      ],
      "execution_count": null,
      "outputs": [
        {
          "output_type": "execute_result",
          "data": {
            "text/plain": [
              "0.9541567695961995"
            ]
          },
          "metadata": {
            "tags": []
          },
          "execution_count": 20
        }
      ]
    },
    {
      "cell_type": "code",
      "metadata": {
        "id": "cLilUEU-Tar1",
        "outputId": "5b267642-eb86-4c0f-c9a1-b0e8c302354b",
        "colab": {
          "base_uri": "https://localhost:8080/",
          "height": 34
        }
      },
      "source": [
        "import pickle\n",
        "print(\"[INFO] Saving model...\")\n",
        "pickle.dump(model,open('cnn_model.pkl', 'wb'))"
      ],
      "execution_count": null,
      "outputs": [
        {
          "output_type": "stream",
          "text": [
            "[INFO] Saving model...\n"
          ],
          "name": "stdout"
        }
      ]
    },
    {
      "cell_type": "code",
      "metadata": {
        "id": "-pxOVjEvByHn"
      },
      "source": [
        ""
      ],
      "execution_count": null,
      "outputs": []
    }
  ]
}