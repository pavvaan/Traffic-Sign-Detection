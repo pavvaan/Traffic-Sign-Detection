{
  "nbformat": 4,
  "nbformat_minor": 0,
  "metadata": {
    "colab": {
      "name": "Traffic Sign CA 1.ipynb",
      "provenance": [],
      "collapsed_sections": []
    },
    "kernelspec": {
      "name": "python3",
      "display_name": "Python 3"
    },
    "accelerator": "GPU"
  },
  "cells": [
    {
      "cell_type": "code",
      "metadata": {
        "id": "BsiD7cTSLdYA"
      },
      "source": [
        "import os\n",
        "import zipfile\n",
        "!unzip -q \"/content/drive/My Drive/archive.zip\"\n",
        "os.getcwd() \n",
        "os.chdir('/content/drive/My Drive')"
      ],
      "execution_count": 1,
      "outputs": []
    },
    {
      "cell_type": "code",
      "metadata": {
        "id": "MRhdHyTAMrok"
      },
      "source": [
        "import numpy as np \n",
        "import pandas as pd \n",
        "import matplotlib.pyplot as plt\n",
        "import tensorflow as tf\n",
        "import cv2\n",
        "from PIL import Image\n",
        "import os"
      ],
      "execution_count": 2,
      "outputs": []
    },
    {
      "cell_type": "code",
      "metadata": {
        "id": "sqKoPH1-NCGu",
        "outputId": "a18865ad-ff9e-4b51-e887-6416b05727a0",
        "colab": {
          "base_uri": "https://localhost:8080/",
          "height": 402
        }
      },
      "source": [
        "train=pd.read_csv('/content/Train.csv')\n",
        "X_train=train['Path']\n",
        "y_train=train.ClassId\n",
        "train"
      ],
      "execution_count": 3,
      "outputs": [
        {
          "output_type": "execute_result",
          "data": {
            "text/html": [
              "<div>\n",
              "<style scoped>\n",
              "    .dataframe tbody tr th:only-of-type {\n",
              "        vertical-align: middle;\n",
              "    }\n",
              "\n",
              "    .dataframe tbody tr th {\n",
              "        vertical-align: top;\n",
              "    }\n",
              "\n",
              "    .dataframe thead th {\n",
              "        text-align: right;\n",
              "    }\n",
              "</style>\n",
              "<table border=\"1\" class=\"dataframe\">\n",
              "  <thead>\n",
              "    <tr style=\"text-align: right;\">\n",
              "      <th></th>\n",
              "      <th>Width</th>\n",
              "      <th>Height</th>\n",
              "      <th>Roi.X1</th>\n",
              "      <th>Roi.Y1</th>\n",
              "      <th>Roi.X2</th>\n",
              "      <th>Roi.Y2</th>\n",
              "      <th>ClassId</th>\n",
              "      <th>Path</th>\n",
              "    </tr>\n",
              "  </thead>\n",
              "  <tbody>\n",
              "    <tr>\n",
              "      <th>0</th>\n",
              "      <td>27</td>\n",
              "      <td>26</td>\n",
              "      <td>5</td>\n",
              "      <td>5</td>\n",
              "      <td>22</td>\n",
              "      <td>20</td>\n",
              "      <td>20</td>\n",
              "      <td>Train/20/00020_00000_00000.png</td>\n",
              "    </tr>\n",
              "    <tr>\n",
              "      <th>1</th>\n",
              "      <td>28</td>\n",
              "      <td>27</td>\n",
              "      <td>5</td>\n",
              "      <td>6</td>\n",
              "      <td>23</td>\n",
              "      <td>22</td>\n",
              "      <td>20</td>\n",
              "      <td>Train/20/00020_00000_00001.png</td>\n",
              "    </tr>\n",
              "    <tr>\n",
              "      <th>2</th>\n",
              "      <td>29</td>\n",
              "      <td>26</td>\n",
              "      <td>6</td>\n",
              "      <td>5</td>\n",
              "      <td>24</td>\n",
              "      <td>21</td>\n",
              "      <td>20</td>\n",
              "      <td>Train/20/00020_00000_00002.png</td>\n",
              "    </tr>\n",
              "    <tr>\n",
              "      <th>3</th>\n",
              "      <td>28</td>\n",
              "      <td>27</td>\n",
              "      <td>5</td>\n",
              "      <td>6</td>\n",
              "      <td>23</td>\n",
              "      <td>22</td>\n",
              "      <td>20</td>\n",
              "      <td>Train/20/00020_00000_00003.png</td>\n",
              "    </tr>\n",
              "    <tr>\n",
              "      <th>4</th>\n",
              "      <td>28</td>\n",
              "      <td>26</td>\n",
              "      <td>5</td>\n",
              "      <td>5</td>\n",
              "      <td>23</td>\n",
              "      <td>21</td>\n",
              "      <td>20</td>\n",
              "      <td>Train/20/00020_00000_00004.png</td>\n",
              "    </tr>\n",
              "    <tr>\n",
              "      <th>...</th>\n",
              "      <td>...</td>\n",
              "      <td>...</td>\n",
              "      <td>...</td>\n",
              "      <td>...</td>\n",
              "      <td>...</td>\n",
              "      <td>...</td>\n",
              "      <td>...</td>\n",
              "      <td>...</td>\n",
              "    </tr>\n",
              "    <tr>\n",
              "      <th>39204</th>\n",
              "      <td>52</td>\n",
              "      <td>56</td>\n",
              "      <td>5</td>\n",
              "      <td>6</td>\n",
              "      <td>47</td>\n",
              "      <td>51</td>\n",
              "      <td>42</td>\n",
              "      <td>Train/42/00042_00007_00025.png</td>\n",
              "    </tr>\n",
              "    <tr>\n",
              "      <th>39205</th>\n",
              "      <td>56</td>\n",
              "      <td>58</td>\n",
              "      <td>5</td>\n",
              "      <td>5</td>\n",
              "      <td>51</td>\n",
              "      <td>53</td>\n",
              "      <td>42</td>\n",
              "      <td>Train/42/00042_00007_00026.png</td>\n",
              "    </tr>\n",
              "    <tr>\n",
              "      <th>39206</th>\n",
              "      <td>58</td>\n",
              "      <td>62</td>\n",
              "      <td>5</td>\n",
              "      <td>6</td>\n",
              "      <td>53</td>\n",
              "      <td>57</td>\n",
              "      <td>42</td>\n",
              "      <td>Train/42/00042_00007_00027.png</td>\n",
              "    </tr>\n",
              "    <tr>\n",
              "      <th>39207</th>\n",
              "      <td>63</td>\n",
              "      <td>69</td>\n",
              "      <td>5</td>\n",
              "      <td>7</td>\n",
              "      <td>58</td>\n",
              "      <td>63</td>\n",
              "      <td>42</td>\n",
              "      <td>Train/42/00042_00007_00028.png</td>\n",
              "    </tr>\n",
              "    <tr>\n",
              "      <th>39208</th>\n",
              "      <td>68</td>\n",
              "      <td>69</td>\n",
              "      <td>7</td>\n",
              "      <td>6</td>\n",
              "      <td>62</td>\n",
              "      <td>63</td>\n",
              "      <td>42</td>\n",
              "      <td>Train/42/00042_00007_00029.png</td>\n",
              "    </tr>\n",
              "  </tbody>\n",
              "</table>\n",
              "<p>39209 rows × 8 columns</p>\n",
              "</div>"
            ],
            "text/plain": [
              "       Width  Height  Roi.X1  ...  Roi.Y2  ClassId                            Path\n",
              "0         27      26       5  ...      20       20  Train/20/00020_00000_00000.png\n",
              "1         28      27       5  ...      22       20  Train/20/00020_00000_00001.png\n",
              "2         29      26       6  ...      21       20  Train/20/00020_00000_00002.png\n",
              "3         28      27       5  ...      22       20  Train/20/00020_00000_00003.png\n",
              "4         28      26       5  ...      21       20  Train/20/00020_00000_00004.png\n",
              "...      ...     ...     ...  ...     ...      ...                             ...\n",
              "39204     52      56       5  ...      51       42  Train/42/00042_00007_00025.png\n",
              "39205     56      58       5  ...      53       42  Train/42/00042_00007_00026.png\n",
              "39206     58      62       5  ...      57       42  Train/42/00042_00007_00027.png\n",
              "39207     63      69       5  ...      63       42  Train/42/00042_00007_00028.png\n",
              "39208     68      69       7  ...      63       42  Train/42/00042_00007_00029.png\n",
              "\n",
              "[39209 rows x 8 columns]"
            ]
          },
          "metadata": {
            "tags": []
          },
          "execution_count": 3
        }
      ]
    },
    {
      "cell_type": "code",
      "metadata": {
        "id": "-LmVQlI3NL-O"
      },
      "source": [
        "data_dir = \"/content\"\n",
        "train_imgpath= list((data_dir + '/' + str(train.Path[i])) for i in range(len(train.Path)))"
      ],
      "execution_count": 4,
      "outputs": []
    },
    {
      "cell_type": "code",
      "metadata": {
        "id": "dnTY0j2aNWdT",
        "outputId": "d390720b-16bb-4d2f-ac44-eeffc30c23cb",
        "colab": {
          "base_uri": "https://localhost:8080/",
          "height": 269
        }
      },
      "source": [
        "for i in range(0,9):\n",
        "    plt.subplot(331+i)\n",
        "    seed=np.random.randint(0,39210)\n",
        "    im = Image.open(train_imgpath[seed])  \n",
        "    plt.imshow(im)\n",
        "    \n",
        "plt.show()"
      ],
      "execution_count": 5,
      "outputs": [
        {
          "output_type": "display_data",
          "data": {
            "image/png": "[encoded data removed]",
            "text/plain": [
              "<Figure size 432x288 with 9 Axes>"
            ]
          },
          "metadata": {
            "tags": [],
            "needs_background": "light"
          }
        }
      ]
    },
    {
      "cell_type": "code",
      "metadata": {
        "id": "e88J-ql9Na3x"
      },
      "source": [
        "train_data=[]\n",
        "train_labels=[]\n",
        "path = \"/content/\"\n",
        "for i in range(len(train.Path)):\n",
        "    image=cv2.imread(train_imgpath[i])\n",
        "    image_from_array = Image.fromarray(image, 'RGB')\n",
        "    size_image = image_from_array.resize((28,28))\n",
        "    train_data.append(np.array(size_image))\n",
        "    train_labels.append(train.ClassId[i])\n",
        "\n",
        "\n",
        "X=np.array(train_data)\n",
        "y=np.array(train_labels)"
      ],
      "execution_count": 6,
      "outputs": []
    },
    {
      "cell_type": "code",
      "metadata": {
        "id": "idw57f8JN_Es"
      },
      "source": [
        "from sklearn.model_selection import train_test_split\n",
        "X_train, X_val, y_train, y_val = train_test_split( X, y, test_size=0.20, random_state=7777)"
      ],
      "execution_count": 7,
      "outputs": []
    },
    {
      "cell_type": "code",
      "metadata": {
        "id": "l_zPo_-xOFXZ"
      },
      "source": [
        "\n",
        "\n",
        "X_train = X_train.astype('float32')/255 \n",
        "X_val = X_val.astype('float32')/255\n",
        "\n",
        "from keras.utils import to_categorical\n",
        "y_train = to_categorical(y_train, 43)\n",
        "y_val = to_categorical(y_val, 43)"
      ],
      "execution_count": 8,
      "outputs": []
    },
    {
      "cell_type": "code",
      "metadata": {
        "id": "Q_4ewhPVOIdR"
      },
      "source": [
        "from sklearn.model_selection import GridSearchCV\n",
        "from sklearn.model_selection import KFold\n",
        "from keras.models import Sequential\n",
        "from keras.layers import Dense\n",
        "from keras.wrappers.scikit_learn import KerasClassifier\n",
        "from keras.optimizers import Adam\n",
        "from keras.layers import Dropout"
      ],
      "execution_count": 9,
      "outputs": []
    },
    {
      "cell_type": "code",
      "metadata": {
        "id": "0Wh3u7_LOLXu",
        "outputId": "d138f79f-058a-4521-aa82-16200c125dd8",
        "colab": {
          "base_uri": "https://localhost:8080/",
          "height": 655
        }
      },
      "source": [
        "def create_model(layers):\n",
        "    cnn = tf.keras.models.Sequential()\n",
        "    cnn.add(tf.keras.layers.Conv2D(filters=32, kernel_size=3, padding=\"same\", activation=\"relu\", input_shape=[28, 28, 3]))\n",
        "    cnn.add(tf.keras.layers.MaxPool2D(pool_size=2, strides=2, padding='valid'))\n",
        "    cnn.add(tf.keras.layers.Conv2D(filters=32, kernel_size=3, padding=\"same\", activation=\"relu\"))\n",
        "    cnn.add(tf.keras.layers.MaxPool2D(pool_size=2, strides=2, padding='valid'))\n",
        "    cnn.add(tf.keras.layers.Flatten())\n",
        "    \n",
        "    for i, nodes in enumerate(layers):\n",
        "        cnn.add(tf.keras.layers.Dense(units=nodes, activation='relu'))\n",
        "            \n",
        "    cnn.add(tf.keras.layers.Dense(units=43, activation='softmax'))\n",
        "    \n",
        "    cnn.compile(optimizer = 'Adam', loss = 'binary_crossentropy', metrics = ['accuracy'])\n",
        "    return cnn\n",
        "\n",
        "model = KerasClassifier(build_fn=create_model, verbose=1)\n",
        "layers = [[128],(256, 128),(200, 150, 120)]\n",
        "param_grid = dict(layers=layers)\n",
        "grid = GridSearchCV(estimator=model, param_grid=param_grid, verbose=1)\n",
        "grid_results = grid.fit(X_train,y_train, validation_data=(X_val, y_val))\n",
        "print(\"Best: {0}, using {1}\".format(grid_results.best_score_, grid_results.best_params_))\n",
        "means = grid_results.cv_results_['mean_test_score']\n",
        "stds = grid_results.cv_results_['std_test_score']\n",
        "params = grid_results.cv_results_['params']\n",
        "for mean, stdev, param in zip(means, stds, params):\n",
        "    print('{0} ({1}) with: {2}'.format(mean, stdev, param))"
      ],
      "execution_count": 10,
      "outputs": [
        {
          "output_type": "stream",
          "text": [
            "Fitting 5 folds for each of 3 candidates, totalling 15 fits\n"
          ],
          "name": "stdout"
        },
        {
          "output_type": "stream",
          "text": [
            "[Parallel(n_jobs=1)]: Using backend SequentialBackend with 1 concurrent workers.\n"
          ],
          "name": "stderr"
        },
        {
          "output_type": "stream",
          "text": [
            "785/785 [==============================] - 3s 4ms/step - loss: 0.0460 - accuracy: 0.6145 - val_loss: 0.0180 - val_accuracy: 0.8602\n",
            "197/197 [==============================] - 1s 3ms/step - loss: 0.0178 - accuracy: 0.8581\n",
            "785/785 [==============================] - 3s 4ms/step - loss: 0.0468 - accuracy: 0.6077 - val_loss: 0.0167 - val_accuracy: 0.8786\n",
            "197/197 [==============================] - 1s 3ms/step - loss: 0.0168 - accuracy: 0.8734\n",
            "785/785 [==============================] - 3s 4ms/step - loss: 0.0460 - accuracy: 0.6141 - val_loss: 0.0166 - val_accuracy: 0.8687\n",
            "197/197 [==============================] - 1s 3ms/step - loss: 0.0169 - accuracy: 0.8710\n",
            "785/785 [==============================] - 3s 4ms/step - loss: 0.0514 - accuracy: 0.5607 - val_loss: 0.0182 - val_accuracy: 0.8766\n",
            "197/197 [==============================] - 1s 3ms/step - loss: 0.0181 - accuracy: 0.8773\n",
            "785/785 [==============================] - 3s 4ms/step - loss: 0.0504 - accuracy: 0.5719 - val_loss: 0.0179 - val_accuracy: 0.8650\n",
            "197/197 [==============================] - 1s 3ms/step - loss: 0.0182 - accuracy: 0.8576\n",
            "785/785 [==============================] - 3s 4ms/step - loss: 0.0495 - accuracy: 0.5668 - val_loss: 0.0164 - val_accuracy: 0.8824\n",
            "197/197 [==============================] - 1s 3ms/step - loss: 0.0164 - accuracy: 0.8835\n",
            "785/785 [==============================] - 3s 4ms/step - loss: 0.0443 - accuracy: 0.6178 - val_loss: 0.0146 - val_accuracy: 0.8859\n",
            "197/197 [==============================] - 1s 3ms/step - loss: 0.0140 - accuracy: 0.8887\n",
            "785/785 [==============================] - 3s 4ms/step - loss: 0.0454 - accuracy: 0.6067 - val_loss: 0.0166 - val_accuracy: 0.8674\n",
            "197/197 [==============================] - 0s 3ms/step - loss: 0.0166 - accuracy: 0.8736\n",
            "785/785 [==============================] - 3s 4ms/step - loss: 0.0445 - accuracy: 0.6169 - val_loss: 0.0178 - val_accuracy: 0.8512\n",
            "197/197 [==============================] - 1s 3ms/step - loss: 0.0171 - accuracy: 0.8546\n",
            "785/785 [==============================] - 3s 4ms/step - loss: 0.0464 - accuracy: 0.5857 - val_loss: 0.0155 - val_accuracy: 0.8805\n",
            "197/197 [==============================] - 1s 3ms/step - loss: 0.0154 - accuracy: 0.8782\n",
            "785/785 [==============================] - 3s 4ms/step - loss: 0.0508 - accuracy: 0.5372 - val_loss: 0.0186 - val_accuracy: 0.8433\n",
            "197/197 [==============================] - 1s 3ms/step - loss: 0.0175 - accuracy: 0.8543\n",
            "785/785 [==============================] - 3s 4ms/step - loss: 0.0552 - accuracy: 0.5015 - val_loss: 0.0250 - val_accuracy: 0.7817\n",
            "197/197 [==============================] - 1s 3ms/step - loss: 0.0245 - accuracy: 0.7848\n",
            "785/785 [==============================] - 4s 4ms/step - loss: 0.0566 - accuracy: 0.4723 - val_loss: 0.0231 - val_accuracy: 0.7997\n",
            "197/197 [==============================] - 1s 3ms/step - loss: 0.0227 - accuracy: 0.8111\n",
            "785/785 [==============================] - 4s 4ms/step - loss: 0.0536 - accuracy: 0.5126 - val_loss: 0.0209 - val_accuracy: 0.8192\n",
            "197/197 [==============================] - 1s 3ms/step - loss: 0.0208 - accuracy: 0.8226\n",
            "785/785 [==============================] - 4s 4ms/step - loss: 0.0547 - accuracy: 0.4979 - val_loss: 0.0276 - val_accuracy: 0.7654\n",
            "197/197 [==============================] - 1s 3ms/step - loss: 0.0277 - accuracy: 0.7634\n"
          ],
          "name": "stdout"
        },
        {
          "output_type": "stream",
          "text": [
            "[Parallel(n_jobs=1)]: Done  15 out of  15 | elapsed:  1.4min finished\n"
          ],
          "name": "stderr"
        },
        {
          "output_type": "stream",
          "text": [
            "981/981 [==============================] - 4s 4ms/step - loss: 0.0406 - accuracy: 0.6465 - val_loss: 0.0176 - val_accuracy: 0.8546\n",
            "Best: 0.8757286190986633, using {'layers': (256, 128)}\n",
            "0.8675041675567627 (0.008094554413543387) with: {'layers': [128]}\n",
            "0.8757286190986633 (0.011715021761259811) with: {'layers': (256, 128)}\n",
            "0.807248878479004 (0.03126681753501189) with: {'layers': (200, 150, 120)}\n"
          ],
          "name": "stdout"
        }
      ]
    },
    {
      "cell_type": "code",
      "metadata": {
        "id": "lTtvzm08Ozg-",
        "outputId": "ad8ad7a2-0076-49d7-c462-de5cbc03b349",
        "colab": {
          "base_uri": "https://localhost:8080/",
          "height": 470
        }
      },
      "source": [
        "def create_model1():\n",
        "    cnn = tf.keras.models.Sequential()\n",
        "    cnn.add(tf.keras.layers.Conv2D(filters=32, kernel_size=3, padding=\"same\", activation=\"relu\", input_shape=[28, 28, 3]))\n",
        "    cnn.add(tf.keras.layers.MaxPool2D(pool_size=2, strides=2, padding='valid'))\n",
        "    cnn.add(tf.keras.layers.Conv2D(filters=32, kernel_size=3, padding=\"same\", activation=\"relu\"))\n",
        "    cnn.add(tf.keras.layers.MaxPool2D(pool_size=2, strides=2, padding='valid'))\n",
        "    cnn.add(tf.keras.layers.Flatten())\n",
        "    cnn.add(tf.keras.layers.Dense(units=256, activation='relu'))\n",
        "    cnn.add(tf.keras.layers.Dense(units=128, activation='relu'))\n",
        "    cnn.add(tf.keras.layers.Dense(units=43, activation='softmax'))\n",
        "    cnn.compile(optimizer = 'Adam', loss = 'binary_crossentropy', metrics = ['accuracy'])\n",
        "    return cnn\n",
        "\n",
        "model = KerasClassifier(build_fn = create_model1, verbose = 1)\n",
        "\n",
        "\n",
        "batch_size = [20,40]\n",
        "\n",
        "param_grid = dict(batch_size=batch_size)\n",
        "\n",
        "\n",
        "grid = GridSearchCV(estimator = model, param_grid = param_grid, verbose = 1)\n",
        "grid_results = grid.fit(X_train,y_train, validation_data=(X_val, y_val))\n",
        "\n",
        "\n",
        "print(\"Best: {0}, using {1}\".format(grid_results.best_score_, grid_results.best_params_))\n",
        "means = grid_results.cv_results_['mean_test_score']\n",
        "stds = grid_results.cv_results_['std_test_score']\n",
        "params = grid_results.cv_results_['params']\n",
        "for mean, stdev, param in zip(means, stds, params):\n",
        "    print('{0} ({1}) with: {2}'.format(mean, stdev, param))"
      ],
      "execution_count": 11,
      "outputs": [
        {
          "output_type": "stream",
          "text": [
            "Fitting 5 folds for each of 2 candidates, totalling 10 fits\n"
          ],
          "name": "stdout"
        },
        {
          "output_type": "stream",
          "text": [
            "[Parallel(n_jobs=1)]: Using backend SequentialBackend with 1 concurrent workers.\n"
          ],
          "name": "stderr"
        },
        {
          "output_type": "stream",
          "text": [
            "1255/1255 [==============================] - 5s 4ms/step - loss: 0.0397 - accuracy: 0.6561 - val_loss: 0.0133 - val_accuracy: 0.8942\n",
            "314/314 [==============================] - 1s 3ms/step - loss: 0.0132 - accuracy: 0.8959\n",
            "1255/1255 [==============================] - 5s 4ms/step - loss: 0.0412 - accuracy: 0.6409 - val_loss: 0.0141 - val_accuracy: 0.8912\n",
            "314/314 [==============================] - 1s 2ms/step - loss: 0.0134 - accuracy: 0.8945\n",
            "1255/1255 [==============================] - 5s 4ms/step - loss: 0.0420 - accuracy: 0.6337 - val_loss: 0.0158 - val_accuracy: 0.8689\n",
            "314/314 [==============================] - 1s 2ms/step - loss: 0.0161 - accuracy: 0.8640\n",
            "1255/1255 [==============================] - 5s 4ms/step - loss: 0.0414 - accuracy: 0.6395 - val_loss: 0.0135 - val_accuracy: 0.8961\n",
            "314/314 [==============================] - 1s 2ms/step - loss: 0.0134 - accuracy: 0.8988\n",
            "1255/1255 [==============================] - 5s 4ms/step - loss: 0.0443 - accuracy: 0.6117 - val_loss: 0.0141 - val_accuracy: 0.8985\n",
            "314/314 [==============================] - 1s 2ms/step - loss: 0.0135 - accuracy: 0.9000\n",
            "628/628 [==============================] - 3s 4ms/step - loss: 0.0492 - accuracy: 0.5729 - val_loss: 0.0183 - val_accuracy: 0.8537\n",
            "157/157 [==============================] - 0s 3ms/step - loss: 0.0184 - accuracy: 0.8550\n",
            "628/628 [==============================] - 3s 5ms/step - loss: 0.0490 - accuracy: 0.5743 - val_loss: 0.0199 - val_accuracy: 0.8395\n",
            "157/157 [==============================] - 0s 3ms/step - loss: 0.0193 - accuracy: 0.8462\n",
            "628/628 [==============================] - 3s 4ms/step - loss: 0.0538 - accuracy: 0.5236 - val_loss: 0.0210 - val_accuracy: 0.8212\n",
            "157/157 [==============================] - 0s 3ms/step - loss: 0.0209 - accuracy: 0.8226\n",
            "628/628 [==============================] - 3s 4ms/step - loss: 0.0493 - accuracy: 0.5752 - val_loss: 0.0187 - val_accuracy: 0.8567\n",
            "157/157 [==============================] - 0s 3ms/step - loss: 0.0190 - accuracy: 0.8470\n",
            "628/628 [==============================] - 3s 4ms/step - loss: 0.0497 - accuracy: 0.5669 - val_loss: 0.0167 - val_accuracy: 0.8743\n",
            "157/157 [==============================] - 0s 3ms/step - loss: 0.0164 - accuracy: 0.8819\n"
          ],
          "name": "stdout"
        },
        {
          "output_type": "stream",
          "text": [
            "[Parallel(n_jobs=1)]: Done  10 out of  10 | elapsed:   53.6s finished\n"
          ],
          "name": "stderr"
        },
        {
          "output_type": "stream",
          "text": [
            "1569/1569 [==============================] - 6s 4ms/step - loss: 0.0376 - accuracy: 0.6717 - val_loss: 0.0116 - val_accuracy: 0.9102\n",
            "Best: 0.8906491279602051, using {'batch_size': 20}\n",
            "0.8906491279602051 (0.013460373733735017) with: {'batch_size': 20}\n",
            "0.8505116820335388 (0.01905379103991989) with: {'batch_size': 40}\n"
          ],
          "name": "stdout"
        }
      ]
    },
    {
      "cell_type": "code",
      "metadata": {
        "id": "ZFGn03pFORUX",
        "outputId": "ad41dd48-3c2c-4423-bcbc-07e83c3a5ceb",
        "colab": {
          "base_uri": "https://localhost:8080/",
          "height": 1000
        }
      },
      "source": [
        "def create_model2(dropout):\n",
        "    \n",
        "    cnn = tf.keras.models.Sequential()\n",
        "    cnn.add(tf.keras.layers.Conv2D(filters=32, kernel_size=3, padding=\"same\", activation=\"relu\", input_shape=[28, 28, 3]))\n",
        "    cnn.add(tf.keras.layers.MaxPool2D(pool_size=2, strides=2, padding='valid'))\n",
        "    cnn.add(tf.keras.layers.Conv2D(filters=32, kernel_size=3, padding=\"same\", activation=\"relu\"))\n",
        "    cnn.add(tf.keras.layers.MaxPool2D(pool_size=2, strides=2, padding='valid'))\n",
        "    cnn.add(tf.keras.layers.Flatten())\n",
        "    cnn.add(tf.keras.layers.Dense(units=256, activation='relu'))\n",
        "    cnn.add(Dropout(dropout))\n",
        "    cnn.add(tf.keras.layers.Dense(units=128, activation='relu'))\n",
        "    cnn.add(Dropout(dropout))\n",
        "    cnn.add(tf.keras.layers.Dense(units=43, activation='softmax'))\n",
        "    \n",
        "    \n",
        "    cnn.compile(optimizer = 'Adam', loss = 'binary_crossentropy', metrics = ['accuracy'])\n",
        "    return cnn\n",
        "\n",
        "\n",
        "model = KerasClassifier(build_fn = create_model2, verbose = 1,epochs=10, batch_size=20)\n",
        "\n",
        "\n",
        "dropout = [0.0, 0.1, 0.2]\n",
        "\n",
        "\n",
        "param_grid = dict(dropout=dropout)\n",
        "\n",
        "\n",
        "grid = GridSearchCV(estimator = model, param_grid = param_grid, verbose = 1)\n",
        "grid_results = grid.fit(X_train,y_train, validation_data=(X_val, y_val))\n",
        "\n",
        "\n",
        "print(\"Best: {0}, using {1}\".format(grid_results.best_score_, grid_results.best_params_))\n",
        "means = grid_results.cv_results_['mean_test_score']\n",
        "stds = grid_results.cv_results_['std_test_score']\n",
        "params = grid_results.cv_results_['params']\n",
        "for mean, stdev, param in zip(means, stds, params):\n",
        "    print('{0} ({1}) with: {2}'.format(mean, stdev, param))"
      ],
      "execution_count": 12,
      "outputs": [
        {
          "output_type": "stream",
          "text": [
            "Fitting 5 folds for each of 3 candidates, totalling 15 fits\n",
            "Epoch 1/10\n"
          ],
          "name": "stdout"
        },
        {
          "output_type": "stream",
          "text": [
            "[Parallel(n_jobs=1)]: Using backend SequentialBackend with 1 concurrent workers.\n"
          ],
          "name": "stderr"
        },
        {
          "output_type": "stream",
          "text": [
            "1255/1255 [==============================] - 5s 4ms/step - loss: 0.0435 - accuracy: 0.6180 - val_loss: 0.0133 - val_accuracy: 0.8962\n",
            "Epoch 2/10\n",
            "1255/1255 [==============================] - 5s 4ms/step - loss: 0.0088 - accuracy: 0.9350 - val_loss: 0.0061 - val_accuracy: 0.9582\n",
            "Epoch 3/10\n",
            "1255/1255 [==============================] - 5s 4ms/step - loss: 0.0043 - accuracy: 0.9701 - val_loss: 0.0048 - val_accuracy: 0.9663\n",
            "Epoch 4/10\n",
            "1255/1255 [==============================] - 5s 4ms/step - loss: 0.0027 - accuracy: 0.9810 - val_loss: 0.0056 - val_accuracy: 0.9607\n",
            "Epoch 5/10\n",
            "1255/1255 [==============================] - 5s 4ms/step - loss: 0.0022 - accuracy: 0.9857 - val_loss: 0.0034 - val_accuracy: 0.9776\n",
            "Epoch 6/10\n",
            "1255/1255 [==============================] - 5s 4ms/step - loss: 0.0019 - accuracy: 0.9880 - val_loss: 0.0043 - val_accuracy: 0.9727\n",
            "Epoch 7/10\n",
            "1255/1255 [==============================] - 5s 4ms/step - loss: 0.0015 - accuracy: 0.9894 - val_loss: 0.0048 - val_accuracy: 0.9725\n",
            "Epoch 8/10\n",
            "1255/1255 [==============================] - 5s 4ms/step - loss: 0.0012 - accuracy: 0.9920 - val_loss: 0.0027 - val_accuracy: 0.9819\n",
            "Epoch 9/10\n",
            "1255/1255 [==============================] - 5s 4ms/step - loss: 9.8102e-04 - accuracy: 0.9934 - val_loss: 0.0029 - val_accuracy: 0.9820\n",
            "Epoch 10/10\n",
            "1255/1255 [==============================] - 5s 4ms/step - loss: 0.0012 - accuracy: 0.9921 - val_loss: 0.0026 - val_accuracy: 0.9836\n",
            "314/314 [==============================] - 1s 2ms/step - loss: 0.0024 - accuracy: 0.9860\n",
            "Epoch 1/10\n",
            "1255/1255 [==============================] - 5s 4ms/step - loss: 0.0425 - accuracy: 0.6297 - val_loss: 0.0131 - val_accuracy: 0.8953\n",
            "Epoch 2/10\n",
            "1255/1255 [==============================] - 5s 4ms/step - loss: 0.0087 - accuracy: 0.9342 - val_loss: 0.0068 - val_accuracy: 0.9570\n",
            "Epoch 3/10\n",
            "1255/1255 [==============================] - 5s 4ms/step - loss: 0.0042 - accuracy: 0.9710 - val_loss: 0.0054 - val_accuracy: 0.9588\n",
            "Epoch 4/10\n",
            "1255/1255 [==============================] - 5s 4ms/step - loss: 0.0030 - accuracy: 0.9782 - val_loss: 0.0036 - val_accuracy: 0.9754\n",
            "Epoch 5/10\n",
            "1255/1255 [==============================] - 5s 4ms/step - loss: 0.0018 - accuracy: 0.9869 - val_loss: 0.0035 - val_accuracy: 0.9781\n",
            "Epoch 6/10\n",
            "1255/1255 [==============================] - 5s 4ms/step - loss: 0.0019 - accuracy: 0.9871 - val_loss: 0.0033 - val_accuracy: 0.9784\n",
            "Epoch 7/10\n",
            "1255/1255 [==============================] - 5s 4ms/step - loss: 0.0016 - accuracy: 0.9894 - val_loss: 0.0032 - val_accuracy: 0.9809\n",
            "Epoch 8/10\n",
            "1255/1255 [==============================] - 5s 4ms/step - loss: 0.0012 - accuracy: 0.9920 - val_loss: 0.0024 - val_accuracy: 0.9855\n",
            "Epoch 9/10\n",
            "1255/1255 [==============================] - 5s 4ms/step - loss: 0.0012 - accuracy: 0.9932 - val_loss: 0.0029 - val_accuracy: 0.9837\n",
            "Epoch 10/10\n",
            "1255/1255 [==============================] - 5s 4ms/step - loss: 0.0013 - accuracy: 0.9916 - val_loss: 0.0030 - val_accuracy: 0.9820\n",
            "314/314 [==============================] - 1s 2ms/step - loss: 0.0033 - accuracy: 0.9821\n",
            "Epoch 1/10\n",
            "1255/1255 [==============================] - 5s 4ms/step - loss: 0.0382 - accuracy: 0.6689 - val_loss: 0.0124 - val_accuracy: 0.9070\n",
            "Epoch 2/10\n",
            "1255/1255 [==============================] - 5s 4ms/step - loss: 0.0078 - accuracy: 0.9425 - val_loss: 0.0072 - val_accuracy: 0.9492\n",
            "Epoch 3/10\n",
            "1255/1255 [==============================] - 5s 4ms/step - loss: 0.0038 - accuracy: 0.9735 - val_loss: 0.0054 - val_accuracy: 0.9645\n",
            "Epoch 4/10\n",
            "1255/1255 [==============================] - 5s 4ms/step - loss: 0.0024 - accuracy: 0.9839 - val_loss: 0.0032 - val_accuracy: 0.9799\n",
            "Epoch 5/10\n",
            "1255/1255 [==============================] - 5s 4ms/step - loss: 0.0019 - accuracy: 0.9867 - val_loss: 0.0028 - val_accuracy: 0.9797\n",
            "Epoch 6/10\n",
            "1255/1255 [==============================] - 5s 4ms/step - loss: 0.0016 - accuracy: 0.9896 - val_loss: 0.0030 - val_accuracy: 0.9790\n",
            "Epoch 7/10\n",
            "1255/1255 [==============================] - 5s 4ms/step - loss: 0.0013 - accuracy: 0.9912 - val_loss: 0.0031 - val_accuracy: 0.9811\n",
            "Epoch 8/10\n",
            "1255/1255 [==============================] - 5s 4ms/step - loss: 0.0012 - accuracy: 0.9931 - val_loss: 0.0026 - val_accuracy: 0.9836\n",
            "Epoch 9/10\n",
            "1255/1255 [==============================] - 5s 4ms/step - loss: 0.0010 - accuracy: 0.9933 - val_loss: 0.0021 - val_accuracy: 0.9874\n",
            "Epoch 10/10\n",
            "1255/1255 [==============================] - 5s 4ms/step - loss: 9.1803e-04 - accuracy: 0.9944 - val_loss: 0.0021 - val_accuracy: 0.9890\n",
            "314/314 [==============================] - 1s 2ms/step - loss: 0.0020 - accuracy: 0.9857\n",
            "Epoch 1/10\n",
            "1255/1255 [==============================] - 5s 4ms/step - loss: 0.0405 - accuracy: 0.6445 - val_loss: 0.0108 - val_accuracy: 0.9232\n",
            "Epoch 2/10\n",
            "1255/1255 [==============================] - 5s 4ms/step - loss: 0.0074 - accuracy: 0.9450 - val_loss: 0.0072 - val_accuracy: 0.9491\n",
            "Epoch 3/10\n",
            "1255/1255 [==============================] - 5s 4ms/step - loss: 0.0037 - accuracy: 0.9730 - val_loss: 0.0043 - val_accuracy: 0.9713\n",
            "Epoch 4/10\n",
            "1255/1255 [==============================] - 5s 4ms/step - loss: 0.0026 - accuracy: 0.9815 - val_loss: 0.0034 - val_accuracy: 0.9768\n",
            "Epoch 5/10\n",
            "1255/1255 [==============================] - 5s 4ms/step - loss: 0.0018 - accuracy: 0.9879 - val_loss: 0.0039 - val_accuracy: 0.9755\n",
            "Epoch 6/10\n",
            "1255/1255 [==============================] - 5s 4ms/step - loss: 0.0017 - accuracy: 0.9878 - val_loss: 0.0040 - val_accuracy: 0.9736\n",
            "Epoch 7/10\n",
            "1255/1255 [==============================] - 5s 4ms/step - loss: 0.0016 - accuracy: 0.9888 - val_loss: 0.0023 - val_accuracy: 0.9858\n",
            "Epoch 8/10\n",
            "1255/1255 [==============================] - 5s 4ms/step - loss: 0.0010 - accuracy: 0.9931 - val_loss: 0.0055 - val_accuracy: 0.9688\n",
            "Epoch 9/10\n",
            "1255/1255 [==============================] - 5s 4ms/step - loss: 0.0011 - accuracy: 0.9927 - val_loss: 0.0030 - val_accuracy: 0.9828\n",
            "Epoch 10/10\n",
            "1255/1255 [==============================] - 5s 4ms/step - loss: 0.0014 - accuracy: 0.9918 - val_loss: 0.0022 - val_accuracy: 0.9855\n",
            "314/314 [==============================] - 1s 2ms/step - loss: 0.0028 - accuracy: 0.9855\n",
            "Epoch 1/10\n",
            "1255/1255 [==============================] - 5s 4ms/step - loss: 0.0422 - accuracy: 0.6293 - val_loss: 0.0128 - val_accuracy: 0.8970\n",
            "Epoch 2/10\n",
            "1255/1255 [==============================] - 5s 4ms/step - loss: 0.0084 - accuracy: 0.9384 - val_loss: 0.0074 - val_accuracy: 0.9517\n",
            "Epoch 3/10\n",
            "1255/1255 [==============================] - 5s 4ms/step - loss: 0.0045 - accuracy: 0.9687 - val_loss: 0.0038 - val_accuracy: 0.9754\n",
            "Epoch 4/10\n",
            "1255/1255 [==============================] - 5s 4ms/step - loss: 0.0028 - accuracy: 0.9801 - val_loss: 0.0038 - val_accuracy: 0.9751\n",
            "Epoch 5/10\n",
            "1255/1255 [==============================] - 5s 4ms/step - loss: 0.0024 - accuracy: 0.9835 - val_loss: 0.0038 - val_accuracy: 0.9758\n",
            "Epoch 6/10\n",
            "1255/1255 [==============================] - 5s 4ms/step - loss: 0.0018 - accuracy: 0.9876 - val_loss: 0.0029 - val_accuracy: 0.9806\n",
            "Epoch 7/10\n",
            "1255/1255 [==============================] - 5s 4ms/step - loss: 0.0018 - accuracy: 0.9873 - val_loss: 0.0022 - val_accuracy: 0.9865\n",
            "Epoch 8/10\n",
            "1255/1255 [==============================] - 5s 4ms/step - loss: 0.0011 - accuracy: 0.9925 - val_loss: 0.0047 - val_accuracy: 0.9742\n",
            "Epoch 9/10\n",
            "1255/1255 [==============================] - 5s 4ms/step - loss: 0.0013 - accuracy: 0.9911 - val_loss: 0.0036 - val_accuracy: 0.9779\n",
            "Epoch 10/10\n",
            "1255/1255 [==============================] - 5s 4ms/step - loss: 9.1906e-04 - accuracy: 0.9942 - val_loss: 0.0020 - val_accuracy: 0.9883\n",
            "314/314 [==============================] - 1s 2ms/step - loss: 0.0022 - accuracy: 0.9868\n",
            "Epoch 1/10\n",
            "1255/1255 [==============================] - 5s 4ms/step - loss: 0.0440 - accuracy: 0.6086 - val_loss: 0.0135 - val_accuracy: 0.8920\n",
            "Epoch 2/10\n",
            "1255/1255 [==============================] - 5s 4ms/step - loss: 0.0100 - accuracy: 0.9238 - val_loss: 0.0054 - val_accuracy: 0.9605\n",
            "Epoch 3/10\n",
            "1255/1255 [==============================] - 5s 4ms/step - loss: 0.0052 - accuracy: 0.9609 - val_loss: 0.0037 - val_accuracy: 0.9742\n",
            "Epoch 4/10\n",
            "1255/1255 [==============================] - 5s 4ms/step - loss: 0.0035 - accuracy: 0.9751 - val_loss: 0.0037 - val_accuracy: 0.9739\n",
            "Epoch 5/10\n",
            "1255/1255 [==============================] - 5s 4ms/step - loss: 0.0028 - accuracy: 0.9798 - val_loss: 0.0021 - val_accuracy: 0.9856\n",
            "Epoch 6/10\n",
            "1255/1255 [==============================] - 5s 4ms/step - loss: 0.0024 - accuracy: 0.9831 - val_loss: 0.0033 - val_accuracy: 0.9779\n",
            "Epoch 7/10\n",
            "1255/1255 [==============================] - 5s 4ms/step - loss: 0.0019 - accuracy: 0.9870 - val_loss: 0.0047 - val_accuracy: 0.9665\n",
            "Epoch 8/10\n",
            "1255/1255 [==============================] - 5s 4ms/step - loss: 0.0016 - accuracy: 0.9890 - val_loss: 0.0026 - val_accuracy: 0.9841\n",
            "Epoch 9/10\n",
            "1255/1255 [==============================] - 5s 4ms/step - loss: 0.0017 - accuracy: 0.9878 - val_loss: 0.0024 - val_accuracy: 0.9853\n",
            "Epoch 10/10\n",
            "1255/1255 [==============================] - 5s 4ms/step - loss: 0.0014 - accuracy: 0.9892 - val_loss: 0.0021 - val_accuracy: 0.9864\n",
            "314/314 [==============================] - 1s 2ms/step - loss: 0.0018 - accuracy: 0.9879\n",
            "Epoch 1/10\n",
            "1255/1255 [==============================] - 5s 4ms/step - loss: 0.0482 - accuracy: 0.5686 - val_loss: 0.0208 - val_accuracy: 0.8258\n",
            "Epoch 2/10\n",
            "1255/1255 [==============================] - 5s 4ms/step - loss: 0.0116 - accuracy: 0.9081 - val_loss: 0.0071 - val_accuracy: 0.9545\n",
            "Epoch 3/10\n",
            "1255/1255 [==============================] - 5s 4ms/step - loss: 0.0057 - accuracy: 0.9571 - val_loss: 0.0034 - val_accuracy: 0.9786\n",
            "Epoch 4/10\n",
            "1255/1255 [==============================] - 5s 4ms/step - loss: 0.0041 - accuracy: 0.9704 - val_loss: 0.0032 - val_accuracy: 0.9776\n",
            "Epoch 5/10\n",
            "1255/1255 [==============================] - 5s 4ms/step - loss: 0.0029 - accuracy: 0.9794 - val_loss: 0.0042 - val_accuracy: 0.9731\n",
            "Epoch 6/10\n",
            "1255/1255 [==============================] - 5s 4ms/step - loss: 0.0025 - accuracy: 0.9831 - val_loss: 0.0023 - val_accuracy: 0.9841\n",
            "Epoch 7/10\n",
            "1255/1255 [==============================] - 5s 4ms/step - loss: 0.0019 - accuracy: 0.9859 - val_loss: 0.0021 - val_accuracy: 0.9857\n",
            "Epoch 8/10\n",
            "1255/1255 [==============================] - 5s 4ms/step - loss: 0.0016 - accuracy: 0.9887 - val_loss: 0.0019 - val_accuracy: 0.9883\n",
            "Epoch 9/10\n",
            "1255/1255 [==============================] - 5s 4ms/step - loss: 0.0014 - accuracy: 0.9898 - val_loss: 0.0031 - val_accuracy: 0.9802\n",
            "Epoch 10/10\n",
            "1255/1255 [==============================] - 5s 4ms/step - loss: 0.0014 - accuracy: 0.9906 - val_loss: 0.0030 - val_accuracy: 0.9827\n",
            "314/314 [==============================] - 1s 2ms/step - loss: 0.0028 - accuracy: 0.9844\n",
            "Epoch 1/10\n",
            "1255/1255 [==============================] - 5s 4ms/step - loss: 0.0446 - accuracy: 0.6051 - val_loss: 0.0145 - val_accuracy: 0.8866\n",
            "Epoch 2/10\n",
            "1255/1255 [==============================] - 5s 4ms/step - loss: 0.0103 - accuracy: 0.9209 - val_loss: 0.0047 - val_accuracy: 0.9668\n",
            "Epoch 3/10\n",
            "1255/1255 [==============================] - 5s 4ms/step - loss: 0.0053 - accuracy: 0.9613 - val_loss: 0.0032 - val_accuracy: 0.9778\n",
            "Epoch 4/10\n",
            "1255/1255 [==============================] - 5s 4ms/step - loss: 0.0036 - accuracy: 0.9741 - val_loss: 0.0044 - val_accuracy: 0.9711\n",
            "Epoch 5/10\n",
            "1255/1255 [==============================] - 5s 4ms/step - loss: 0.0027 - accuracy: 0.9808 - val_loss: 0.0028 - val_accuracy: 0.9791\n",
            "Epoch 6/10\n",
            "1255/1255 [==============================] - 5s 4ms/step - loss: 0.0020 - accuracy: 0.9853 - val_loss: 0.0025 - val_accuracy: 0.9820\n",
            "Epoch 7/10\n",
            "1255/1255 [==============================] - 5s 4ms/step - loss: 0.0021 - accuracy: 0.9848 - val_loss: 0.0046 - val_accuracy: 0.9702\n",
            "Epoch 8/10\n",
            "1255/1255 [==============================] - 5s 4ms/step - loss: 0.0016 - accuracy: 0.9893 - val_loss: 0.0021 - val_accuracy: 0.9885\n",
            "Epoch 9/10\n",
            "1255/1255 [==============================] - 5s 4ms/step - loss: 0.0013 - accuracy: 0.9914 - val_loss: 0.0023 - val_accuracy: 0.9844\n",
            "Epoch 10/10\n",
            "1255/1255 [==============================] - 5s 4ms/step - loss: 0.0016 - accuracy: 0.9893 - val_loss: 0.0020 - val_accuracy: 0.9883\n",
            "314/314 [==============================] - 1s 2ms/step - loss: 0.0023 - accuracy: 0.9879\n",
            "Epoch 1/10\n",
            "1255/1255 [==============================] - 5s 4ms/step - loss: 0.0429 - accuracy: 0.6219 - val_loss: 0.0114 - val_accuracy: 0.9144\n",
            "Epoch 2/10\n",
            "1255/1255 [==============================] - 5s 4ms/step - loss: 0.0095 - accuracy: 0.9264 - val_loss: 0.0050 - val_accuracy: 0.9681\n",
            "Epoch 3/10\n",
            "1255/1255 [==============================] - 5s 4ms/step - loss: 0.0048 - accuracy: 0.9647 - val_loss: 0.0030 - val_accuracy: 0.9806\n",
            "Epoch 4/10\n",
            "1255/1255 [==============================] - 5s 4ms/step - loss: 0.0034 - accuracy: 0.9755 - val_loss: 0.0043 - val_accuracy: 0.9682\n",
            "Epoch 5/10\n",
            "1255/1255 [==============================] - 5s 4ms/step - loss: 0.0025 - accuracy: 0.9821 - val_loss: 0.0036 - val_accuracy: 0.9773\n",
            "Epoch 6/10\n",
            "1255/1255 [==============================] - 5s 4ms/step - loss: 0.0022 - accuracy: 0.9847 - val_loss: 0.0037 - val_accuracy: 0.9764\n",
            "Epoch 7/10\n",
            "1255/1255 [==============================] - 5s 4ms/step - loss: 0.0015 - accuracy: 0.9897 - val_loss: 0.0024 - val_accuracy: 0.9841\n",
            "Epoch 8/10\n",
            "1255/1255 [==============================] - 5s 4ms/step - loss: 0.0017 - accuracy: 0.9887 - val_loss: 0.0023 - val_accuracy: 0.9858\n",
            "Epoch 9/10\n",
            "1255/1255 [==============================] - 5s 4ms/step - loss: 0.0013 - accuracy: 0.9912 - val_loss: 0.0015 - val_accuracy: 0.9909\n",
            "Epoch 10/10\n",
            "1255/1255 [==============================] - 5s 4ms/step - loss: 0.0012 - accuracy: 0.9912 - val_loss: 0.0023 - val_accuracy: 0.9869\n",
            "314/314 [==============================] - 1s 2ms/step - loss: 0.0018 - accuracy: 0.9890\n",
            "Epoch 1/10\n",
            "1255/1255 [==============================] - 5s 4ms/step - loss: 0.0475 - accuracy: 0.5808 - val_loss: 0.0152 - val_accuracy: 0.8864\n",
            "Epoch 2/10\n",
            "1255/1255 [==============================] - 5s 4ms/step - loss: 0.0104 - accuracy: 0.9213 - val_loss: 0.0065 - val_accuracy: 0.9523\n",
            "Epoch 3/10\n",
            "1255/1255 [==============================] - 5s 4ms/step - loss: 0.0053 - accuracy: 0.9614 - val_loss: 0.0033 - val_accuracy: 0.9796\n",
            "Epoch 4/10\n",
            "1255/1255 [==============================] - 5s 4ms/step - loss: 0.0034 - accuracy: 0.9739 - val_loss: 0.0028 - val_accuracy: 0.9810\n",
            "Epoch 5/10\n",
            "1255/1255 [==============================] - 5s 4ms/step - loss: 0.0026 - accuracy: 0.9804 - val_loss: 0.0028 - val_accuracy: 0.9807\n",
            "Epoch 6/10\n",
            "1255/1255 [==============================] - 5s 4ms/step - loss: 0.0023 - accuracy: 0.9838 - val_loss: 0.0019 - val_accuracy: 0.9883\n",
            "Epoch 7/10\n",
            "1255/1255 [==============================] - 5s 4ms/step - loss: 0.0020 - accuracy: 0.9859 - val_loss: 0.0020 - val_accuracy: 0.9884\n",
            "Epoch 8/10\n",
            "1255/1255 [==============================] - 5s 4ms/step - loss: 0.0016 - accuracy: 0.9884 - val_loss: 0.0022 - val_accuracy: 0.9872\n",
            "Epoch 9/10\n",
            "1255/1255 [==============================] - 5s 4ms/step - loss: 0.0017 - accuracy: 0.9888 - val_loss: 0.0026 - val_accuracy: 0.9837\n",
            "Epoch 10/10\n",
            "1255/1255 [==============================] - 5s 4ms/step - loss: 0.0014 - accuracy: 0.9898 - val_loss: 0.0018 - val_accuracy: 0.9880\n",
            "314/314 [==============================] - 1s 2ms/step - loss: 0.0016 - accuracy: 0.9900\n",
            "Epoch 1/10\n",
            "1255/1255 [==============================] - 5s 4ms/step - loss: 0.0509 - accuracy: 0.5427 - val_loss: 0.0132 - val_accuracy: 0.8966\n",
            "Epoch 2/10\n",
            "1255/1255 [==============================] - 5s 4ms/step - loss: 0.0118 - accuracy: 0.9048 - val_loss: 0.0052 - val_accuracy: 0.9620\n",
            "Epoch 3/10\n",
            "1255/1255 [==============================] - 5s 4ms/step - loss: 0.0064 - accuracy: 0.9521 - val_loss: 0.0037 - val_accuracy: 0.9744\n",
            "Epoch 4/10\n",
            "1255/1255 [==============================] - 5s 4ms/step - loss: 0.0044 - accuracy: 0.9677 - val_loss: 0.0028 - val_accuracy: 0.9801\n",
            "Epoch 5/10\n",
            "1255/1255 [==============================] - 5s 4ms/step - loss: 0.0030 - accuracy: 0.9783 - val_loss: 0.0024 - val_accuracy: 0.9820\n",
            "Epoch 6/10\n",
            "1255/1255 [==============================] - 5s 4ms/step - loss: 0.0027 - accuracy: 0.9808 - val_loss: 0.0029 - val_accuracy: 0.9805\n",
            "Epoch 7/10\n",
            "1255/1255 [==============================] - 5s 4ms/step - loss: 0.0025 - accuracy: 0.9819 - val_loss: 0.0029 - val_accuracy: 0.9791\n",
            "Epoch 8/10\n",
            "1255/1255 [==============================] - 5s 4ms/step - loss: 0.0021 - accuracy: 0.9849 - val_loss: 0.0019 - val_accuracy: 0.9875\n",
            "Epoch 9/10\n",
            "1255/1255 [==============================] - 5s 4ms/step - loss: 0.0015 - accuracy: 0.9890 - val_loss: 0.0025 - val_accuracy: 0.9861\n",
            "Epoch 10/10\n",
            "1255/1255 [==============================] - 5s 4ms/step - loss: 0.0019 - accuracy: 0.9870 - val_loss: 0.0027 - val_accuracy: 0.9850\n",
            "314/314 [==============================] - 1s 2ms/step - loss: 0.0023 - accuracy: 0.9863\n",
            "Epoch 1/10\n",
            "1255/1255 [==============================] - 5s 4ms/step - loss: 0.0504 - accuracy: 0.5474 - val_loss: 0.0143 - val_accuracy: 0.8836\n",
            "Epoch 2/10\n",
            "1255/1255 [==============================] - 5s 4ms/step - loss: 0.0125 - accuracy: 0.9006 - val_loss: 0.0058 - val_accuracy: 0.9578\n",
            "Epoch 3/10\n",
            "1255/1255 [==============================] - 5s 4ms/step - loss: 0.0068 - accuracy: 0.9498 - val_loss: 0.0037 - val_accuracy: 0.9750\n",
            "Epoch 4/10\n",
            "1255/1255 [==============================] - 5s 4ms/step - loss: 0.0044 - accuracy: 0.9679 - val_loss: 0.0036 - val_accuracy: 0.9750\n",
            "Epoch 5/10\n",
            "1255/1255 [==============================] - 5s 4ms/step - loss: 0.0038 - accuracy: 0.9724 - val_loss: 0.0038 - val_accuracy: 0.9728\n",
            "Epoch 6/10\n",
            "1255/1255 [==============================] - 5s 4ms/step - loss: 0.0028 - accuracy: 0.9798 - val_loss: 0.0027 - val_accuracy: 0.9810\n",
            "Epoch 7/10\n",
            "1255/1255 [==============================] - 5s 4ms/step - loss: 0.0025 - accuracy: 0.9817 - val_loss: 0.0024 - val_accuracy: 0.9852\n",
            "Epoch 8/10\n",
            "1255/1255 [==============================] - 5s 4ms/step - loss: 0.0023 - accuracy: 0.9840 - val_loss: 0.0028 - val_accuracy: 0.9796\n",
            "Epoch 9/10\n",
            "1255/1255 [==============================] - 5s 4ms/step - loss: 0.0020 - accuracy: 0.9868 - val_loss: 0.0025 - val_accuracy: 0.9841\n",
            "Epoch 10/10\n",
            "1255/1255 [==============================] - 5s 4ms/step - loss: 0.0018 - accuracy: 0.9872 - val_loss: 0.0022 - val_accuracy: 0.9858\n",
            "314/314 [==============================] - 1s 2ms/step - loss: 0.0020 - accuracy: 0.9880\n",
            "Epoch 1/10\n",
            "1255/1255 [==============================] - 5s 4ms/step - loss: 0.0479 - accuracy: 0.5742 - val_loss: 0.0121 - val_accuracy: 0.9149\n",
            "Epoch 2/10\n",
            "1255/1255 [==============================] - 5s 4ms/step - loss: 0.0107 - accuracy: 0.9181 - val_loss: 0.0041 - val_accuracy: 0.9722\n",
            "Epoch 3/10\n",
            "1255/1255 [==============================] - 5s 4ms/step - loss: 0.0053 - accuracy: 0.9605 - val_loss: 0.0028 - val_accuracy: 0.9824\n",
            "Epoch 4/10\n",
            "1255/1255 [==============================] - 5s 4ms/step - loss: 0.0036 - accuracy: 0.9733 - val_loss: 0.0024 - val_accuracy: 0.9827\n",
            "Epoch 5/10\n",
            "1255/1255 [==============================] - 5s 4ms/step - loss: 0.0028 - accuracy: 0.9794 - val_loss: 0.0020 - val_accuracy: 0.9860\n",
            "Epoch 6/10\n",
            "1255/1255 [==============================] - 5s 4ms/step - loss: 0.0024 - accuracy: 0.9832 - val_loss: 0.0018 - val_accuracy: 0.9888\n",
            "Epoch 7/10\n",
            "1255/1255 [==============================] - 5s 4ms/step - loss: 0.0019 - accuracy: 0.9876 - val_loss: 0.0022 - val_accuracy: 0.9865\n",
            "Epoch 8/10\n",
            "1255/1255 [==============================] - 5s 4ms/step - loss: 0.0019 - accuracy: 0.9872 - val_loss: 0.0022 - val_accuracy: 0.9860\n",
            "Epoch 9/10\n",
            "1255/1255 [==============================] - 5s 4ms/step - loss: 0.0016 - accuracy: 0.9887 - val_loss: 0.0017 - val_accuracy: 0.9904\n",
            "Epoch 10/10\n",
            "1255/1255 [==============================] - 5s 4ms/step - loss: 0.0016 - accuracy: 0.9888 - val_loss: 0.0016 - val_accuracy: 0.9897\n",
            "314/314 [==============================] - 1s 2ms/step - loss: 0.0018 - accuracy: 0.9876\n",
            "Epoch 1/10\n",
            "1255/1255 [==============================] - 5s 4ms/step - loss: 0.0481 - accuracy: 0.5722 - val_loss: 0.0143 - val_accuracy: 0.8919\n",
            "Epoch 2/10\n",
            "1255/1255 [==============================] - 5s 4ms/step - loss: 0.0123 - accuracy: 0.9015 - val_loss: 0.0065 - val_accuracy: 0.9532\n",
            "Epoch 3/10\n",
            "1255/1255 [==============================] - 5s 4ms/step - loss: 0.0062 - accuracy: 0.9523 - val_loss: 0.0036 - val_accuracy: 0.9736\n",
            "Epoch 4/10\n",
            "1255/1255 [==============================] - 5s 4ms/step - loss: 0.0044 - accuracy: 0.9674 - val_loss: 0.0027 - val_accuracy: 0.9820\n",
            "Epoch 5/10\n",
            "1255/1255 [==============================] - 5s 4ms/step - loss: 0.0033 - accuracy: 0.9760 - val_loss: 0.0022 - val_accuracy: 0.9850\n",
            "Epoch 6/10\n",
            "1255/1255 [==============================] - 5s 4ms/step - loss: 0.0029 - accuracy: 0.9790 - val_loss: 0.0023 - val_accuracy: 0.9842\n",
            "Epoch 7/10\n",
            "1255/1255 [==============================] - 5s 4ms/step - loss: 0.0022 - accuracy: 0.9839 - val_loss: 0.0025 - val_accuracy: 0.9850\n",
            "Epoch 8/10\n",
            "1255/1255 [==============================] - 5s 4ms/step - loss: 0.0026 - accuracy: 0.9817 - val_loss: 0.0017 - val_accuracy: 0.9889\n",
            "Epoch 9/10\n",
            "1255/1255 [==============================] - 5s 4ms/step - loss: 0.0016 - accuracy: 0.9893 - val_loss: 0.0021 - val_accuracy: 0.9869\n",
            "Epoch 10/10\n",
            "1255/1255 [==============================] - 5s 4ms/step - loss: 0.0019 - accuracy: 0.9864 - val_loss: 0.0017 - val_accuracy: 0.9890\n",
            "314/314 [==============================] - 1s 2ms/step - loss: 0.0017 - accuracy: 0.9872\n",
            "Epoch 1/10\n",
            "1255/1255 [==============================] - 5s 4ms/step - loss: 0.0510 - accuracy: 0.5418 - val_loss: 0.0155 - val_accuracy: 0.8673\n",
            "Epoch 2/10\n",
            "1255/1255 [==============================] - 5s 4ms/step - loss: 0.0141 - accuracy: 0.8857 - val_loss: 0.0062 - val_accuracy: 0.9521\n",
            "Epoch 3/10\n",
            "1255/1255 [==============================] - 5s 4ms/step - loss: 0.0073 - accuracy: 0.9436 - val_loss: 0.0034 - val_accuracy: 0.9768\n",
            "Epoch 4/10\n",
            "1255/1255 [==============================] - 5s 4ms/step - loss: 0.0048 - accuracy: 0.9637 - val_loss: 0.0029 - val_accuracy: 0.9783\n",
            "Epoch 5/10\n",
            "1255/1255 [==============================] - 5s 4ms/step - loss: 0.0038 - accuracy: 0.9725 - val_loss: 0.0021 - val_accuracy: 0.9862\n",
            "Epoch 6/10\n",
            "1255/1255 [==============================] - 5s 4ms/step - loss: 0.0030 - accuracy: 0.9779 - val_loss: 0.0026 - val_accuracy: 0.9827\n",
            "Epoch 7/10\n",
            "1255/1255 [==============================] - 5s 4ms/step - loss: 0.0028 - accuracy: 0.9797 - val_loss: 0.0024 - val_accuracy: 0.9843\n",
            "Epoch 8/10\n",
            "1255/1255 [==============================] - 5s 4ms/step - loss: 0.0021 - accuracy: 0.9847 - val_loss: 0.0024 - val_accuracy: 0.9830\n",
            "Epoch 9/10\n",
            "1255/1255 [==============================] - 5s 4ms/step - loss: 0.0023 - accuracy: 0.9849 - val_loss: 0.0020 - val_accuracy: 0.9872\n",
            "Epoch 10/10\n",
            "1255/1255 [==============================] - 5s 4ms/step - loss: 0.0017 - accuracy: 0.9874 - val_loss: 0.0055 - val_accuracy: 0.9712\n",
            "314/314 [==============================] - 1s 2ms/step - loss: 0.0045 - accuracy: 0.9727\n",
            "Epoch 1/10\n"
          ],
          "name": "stdout"
        },
        {
          "output_type": "stream",
          "text": [
            "[Parallel(n_jobs=1)]: Done  15 out of  15 | elapsed: 12.8min finished\n"
          ],
          "name": "stderr"
        },
        {
          "output_type": "stream",
          "text": [
            "1569/1569 [==============================] - 6s 4ms/step - loss: 0.0434 - accuracy: 0.6125 - val_loss: 0.0128 - val_accuracy: 0.9042\n",
            "Epoch 2/10\n",
            "1569/1569 [==============================] - 6s 4ms/step - loss: 0.0095 - accuracy: 0.9259 - val_loss: 0.0047 - val_accuracy: 0.9675\n",
            "Epoch 3/10\n",
            "1569/1569 [==============================] - 6s 4ms/step - loss: 0.0049 - accuracy: 0.9631 - val_loss: 0.0033 - val_accuracy: 0.9765\n",
            "Epoch 4/10\n",
            "1569/1569 [==============================] - 6s 4ms/step - loss: 0.0034 - accuracy: 0.9756 - val_loss: 0.0024 - val_accuracy: 0.9830\n",
            "Epoch 5/10\n",
            "1569/1569 [==============================] - 6s 4ms/step - loss: 0.0027 - accuracy: 0.9806 - val_loss: 0.0029 - val_accuracy: 0.9783\n",
            "Epoch 6/10\n",
            "1569/1569 [==============================] - 6s 4ms/step - loss: 0.0021 - accuracy: 0.9855 - val_loss: 0.0026 - val_accuracy: 0.9832\n",
            "Epoch 7/10\n",
            "1569/1569 [==============================] - 6s 4ms/step - loss: 0.0019 - accuracy: 0.9868 - val_loss: 0.0019 - val_accuracy: 0.9880\n",
            "Epoch 8/10\n",
            "1569/1569 [==============================] - 6s 4ms/step - loss: 0.0015 - accuracy: 0.9891 - val_loss: 0.0024 - val_accuracy: 0.9862\n",
            "Epoch 9/10\n",
            "1569/1569 [==============================] - 6s 4ms/step - loss: 0.0016 - accuracy: 0.9896 - val_loss: 0.0019 - val_accuracy: 0.9884\n",
            "Epoch 10/10\n",
            "1569/1569 [==============================] - 6s 4ms/step - loss: 0.0013 - accuracy: 0.9908 - val_loss: 0.0017 - val_accuracy: 0.9897\n",
            "Best: 0.9878217101097106, using {'dropout': 0.1}\n",
            "0.9852074384689331 (0.0015913403862170424) with: {'dropout': 0.0}\n",
            "0.9878217101097106 (0.0018869218661815355) with: {'dropout': 0.1}\n",
            "0.9843783140182495 (0.005847194625732109) with: {'dropout': 0.2}\n"
          ],
          "name": "stdout"
        }
      ]
    },
    {
      "cell_type": "code",
      "metadata": {
        "id": "xeLkuuZfO1GI",
        "outputId": "4afae189-bc08-4669-cad4-91a28855cc62",
        "colab": {
          "base_uri": "https://localhost:8080/",
          "height": 689
        }
      },
      "source": [
        "cnn = tf.keras.models.Sequential()\n",
        "cnn.add(tf.keras.layers.Conv2D(filters=32, kernel_size=3, padding=\"same\", activation=\"relu\", input_shape=[28, 28, 3]))\n",
        "cnn.add(tf.keras.layers.MaxPool2D(pool_size=2, strides=2, padding='valid'))\n",
        "cnn.add(tf.keras.layers.Conv2D(filters=32, kernel_size=3, padding=\"same\", activation=\"relu\"))\n",
        "cnn.add(tf.keras.layers.MaxPool2D(pool_size=2, strides=2, padding='valid'))\n",
        "cnn.add(tf.keras.layers.Flatten())\n",
        "cnn.add(tf.keras.layers.Dense(units=256, activation='relu'))\n",
        "cnn.add(Dropout(0.1))\n",
        "cnn.add(tf.keras.layers.Dense(units=128, activation='relu'))\n",
        "cnn.add(Dropout(0.1))\n",
        "cnn.add(tf.keras.layers.Dense(units=43, activation='softmax'))\n",
        "\n",
        "# compile the model\n",
        "cnn.compile(optimizer = 'Adam', loss = 'binary_crossentropy', metrics = ['accuracy'])\n",
        "\n",
        "history = cnn.fit(X_train, y_train, batch_size=20, epochs=20,validation_data=(X_val, y_val))"
      ],
      "execution_count": 13,
      "outputs": [
        {
          "output_type": "stream",
          "text": [
            "Epoch 1/20\n",
            "1569/1569 [==============================] - 6s 4ms/step - loss: 0.0408 - accuracy: 0.6407 - val_loss: 0.0090 - val_accuracy: 0.9297\n",
            "Epoch 2/20\n",
            "1569/1569 [==============================] - 6s 4ms/step - loss: 0.0075 - accuracy: 0.9441 - val_loss: 0.0046 - val_accuracy: 0.9681\n",
            "Epoch 3/20\n",
            "1569/1569 [==============================] - 6s 4ms/step - loss: 0.0041 - accuracy: 0.9706 - val_loss: 0.0038 - val_accuracy: 0.9736\n",
            "Epoch 4/20\n",
            "1569/1569 [==============================] - 6s 4ms/step - loss: 0.0028 - accuracy: 0.9799 - val_loss: 0.0026 - val_accuracy: 0.9844\n",
            "Epoch 5/20\n",
            "1569/1569 [==============================] - 6s 4ms/step - loss: 0.0025 - accuracy: 0.9823 - val_loss: 0.0029 - val_accuracy: 0.9800\n",
            "Epoch 6/20\n",
            "1569/1569 [==============================] - 6s 4ms/step - loss: 0.0019 - accuracy: 0.9864 - val_loss: 0.0019 - val_accuracy: 0.9897\n",
            "Epoch 7/20\n",
            "1569/1569 [==============================] - 6s 4ms/step - loss: 0.0015 - accuracy: 0.9901 - val_loss: 0.0022 - val_accuracy: 0.9836\n",
            "Epoch 8/20\n",
            "1569/1569 [==============================] - 6s 4ms/step - loss: 0.0015 - accuracy: 0.9900 - val_loss: 0.0017 - val_accuracy: 0.9893\n",
            "Epoch 9/20\n",
            "1569/1569 [==============================] - 6s 4ms/step - loss: 0.0014 - accuracy: 0.9907 - val_loss: 0.0018 - val_accuracy: 0.9871\n",
            "Epoch 10/20\n",
            "1569/1569 [==============================] - 6s 4ms/step - loss: 0.0014 - accuracy: 0.9903 - val_loss: 0.0024 - val_accuracy: 0.9858\n",
            "Epoch 11/20\n",
            "1569/1569 [==============================] - 6s 4ms/step - loss: 0.0011 - accuracy: 0.9929 - val_loss: 0.0023 - val_accuracy: 0.9880\n",
            "Epoch 12/20\n",
            "1569/1569 [==============================] - 6s 4ms/step - loss: 0.0010 - accuracy: 0.9932 - val_loss: 0.0015 - val_accuracy: 0.9916\n",
            "Epoch 13/20\n",
            "1569/1569 [==============================] - 6s 4ms/step - loss: 0.0011 - accuracy: 0.9926 - val_loss: 0.0022 - val_accuracy: 0.9864\n",
            "Epoch 14/20\n",
            "1569/1569 [==============================] - 6s 4ms/step - loss: 0.0011 - accuracy: 0.9926 - val_loss: 0.0020 - val_accuracy: 0.9883\n",
            "Epoch 15/20\n",
            "1569/1569 [==============================] - 6s 4ms/step - loss: 7.9055e-04 - accuracy: 0.9946 - val_loss: 0.0013 - val_accuracy: 0.9918\n",
            "Epoch 16/20\n",
            "1569/1569 [==============================] - 6s 4ms/step - loss: 8.9936e-04 - accuracy: 0.9940 - val_loss: 0.0032 - val_accuracy: 0.9844\n",
            "Epoch 17/20\n",
            "1569/1569 [==============================] - 6s 4ms/step - loss: 8.3297e-04 - accuracy: 0.9946 - val_loss: 0.0020 - val_accuracy: 0.9894\n",
            "Epoch 18/20\n",
            "1569/1569 [==============================] - 6s 4ms/step - loss: 0.0010 - accuracy: 0.9937 - val_loss: 0.0019 - val_accuracy: 0.9892\n",
            "Epoch 19/20\n",
            "1569/1569 [==============================] - 6s 4ms/step - loss: 0.0010 - accuracy: 0.9938 - val_loss: 0.0045 - val_accuracy: 0.9792\n",
            "Epoch 20/20\n",
            "1569/1569 [==============================] - 6s 4ms/step - loss: 7.6618e-04 - accuracy: 0.9954 - val_loss: 0.0017 - val_accuracy: 0.9926\n"
          ],
          "name": "stdout"
        }
      ]
    },
    {
      "cell_type": "code",
      "metadata": {
        "id": "zQTDlinzSbae",
        "outputId": "d1ae604c-0f19-4712-d1a7-8d2aff934e5c",
        "colab": {
          "base_uri": "https://localhost:8080/",
          "height": 590
        }
      },
      "source": [
        "import matplotlib.pyplot as plt\n",
        "\n",
        "plt.figure(0)\n",
        "plt.plot(history.history['accuracy'], label='training accuracy')\n",
        "plt.plot(history.history['val_accuracy'], label='val accuracy')\n",
        "plt.title('Accuracy')\n",
        "plt.xlabel('epochs')\n",
        "plt.ylabel('accuracy')\n",
        "plt.legend()\n",
        "\n",
        "plt.figure(1)\n",
        "plt.plot(history.history['loss'], label='training loss')\n",
        "plt.plot(history.history['val_loss'], label='val loss')\n",
        "plt.title('Loss')\n",
        "plt.xlabel('epochs')\n",
        "plt.ylabel('loss')\n",
        "plt.legend()"
      ],
      "execution_count": 14,
      "outputs": [
        {
          "output_type": "execute_result",
          "data": {
            "text/plain": [
              "<matplotlib.legend.Legend at 0x7f5fcc701eb8>"
            ]
          },
          "metadata": {
            "tags": []
          },
          "execution_count": 14
        },
        {
          "output_type": "display_data",
          "data": {
            "image/png": "[encoded data removed]",
            "text/plain": [
              "<Figure size 432x288 with 1 Axes>"
            ]
          },
          "metadata": {
            "tags": [],
            "needs_background": "light"
          }
        },
        {
          "output_type": "display_data",
          "data": {
            "image/png": "[encoded data removed]",
            "text/plain": [
              "<Figure size 432x288 with 1 Axes>"
            ]
          },
          "metadata": {
            "tags": [],
            "needs_background": "light"
          }
        }
      ]
    },
    {
      "cell_type": "code",
      "metadata": {
        "id": "Iykld_mGS9QS"
      },
      "source": [
        "test=pd.read_csv('/content/Test.csv')\n",
        "X_test=train['Path']\n",
        "y_test=train.ClassId"
      ],
      "execution_count": 15,
      "outputs": []
    },
    {
      "cell_type": "code",
      "metadata": {
        "id": "RbX5S6OzTDIe"
      },
      "source": [
        "data_dir = \"/content\"\n",
        "test_imgpath= list((data_dir + '/' + str(test.Path[i])) for i in range(len(test.Path)))"
      ],
      "execution_count": 16,
      "outputs": []
    },
    {
      "cell_type": "code",
      "metadata": {
        "id": "bURH2NEwTMZB"
      },
      "source": [
        "test_data=[]\n",
        "test_labels=[]\n",
        "\n",
        "\n",
        "path = \"/content/\"\n",
        "for i in range(len(test.Path)):\n",
        "    image=cv2.imread(test_imgpath[i])\n",
        "    image_from_array = Image.fromarray(image, 'RGB')\n",
        "    size_image = image_from_array.resize((28,28))\n",
        "    test_data.append(np.array(size_image))\n",
        "    test_labels.append(test.ClassId[i])\n",
        "\n",
        "\n",
        "X_test=np.array(test_data)\n",
        "y_test=np.array(test_labels)\n",
        "\n",
        "X_test = X_test.astype('float32')/255 "
      ],
      "execution_count": 17,
      "outputs": []
    },
    {
      "cell_type": "code",
      "metadata": {
        "id": "hNto3kpFTRLf",
        "outputId": "37c39897-cde6-4339-e2e1-16f4a820198c",
        "colab": {
          "base_uri": "https://localhost:8080/",
          "height": 87
        }
      },
      "source": [
        "pred = cnn.predict_classes(X_test)"
      ],
      "execution_count": 18,
      "outputs": [
        {
          "output_type": "stream",
          "text": [
            "WARNING:tensorflow:From <ipython-input-18-5cfe5bc3cd1a>:1: Sequential.predict_classes (from tensorflow.python.keras.engine.sequential) is deprecated and will be removed after 2021-01-01.\n",
            "Instructions for updating:\n",
            "Please use instead:* `np.argmax(model.predict(x), axis=-1)`,   if your model does multi-class classification   (e.g. if it uses a `softmax` last-layer activation).* `(model.predict(x) > 0.5).astype(\"int32\")`,   if your model does binary classification   (e.g. if it uses a `sigmoid` last-layer activation).\n"
          ],
          "name": "stdout"
        }
      ]
    },
    {
      "cell_type": "code",
      "metadata": {
        "id": "MSLJhM8lTVQb",
        "outputId": "644cc42f-357b-4b97-b225-e6d74f8de8c9",
        "colab": {
          "base_uri": "https://localhost:8080/",
          "height": 34
        }
      },
      "source": [
        "from sklearn.metrics import accuracy_score\n",
        "accuracy_score(y_test, pred)"
      ],
      "execution_count": 19,
      "outputs": [
        {
          "output_type": "execute_result",
          "data": {
            "text/plain": [
              "0.9492478226444973"
            ]
          },
          "metadata": {
            "tags": []
          },
          "execution_count": 19
        }
      ]
    },
    {
      "cell_type": "code",
      "metadata": {
        "id": "cLilUEU-Tar1",
        "outputId": "1274a5bd-12b8-484e-ae3f-278e639414f6",
        "colab": {
          "base_uri": "https://localhost:8080/",
          "height": 34
        }
      },
      "source": [
        "import pickle\n",
        "print(\"[INFO] Saving model...\")\n",
        "pickle.dump(model,open('cnn_model.pkl', 'wb'))"
      ],
      "execution_count": 20,
      "outputs": [
        {
          "output_type": "stream",
          "text": [
            "[INFO] Saving model...\n"
          ],
          "name": "stdout"
        }
      ]
    },
    {
      "cell_type": "code",
      "metadata": {
        "id": "-pxOVjEvByHn"
      },
      "source": [
        ""
      ],
      "execution_count": null,
      "outputs": []
    }
  ]
}